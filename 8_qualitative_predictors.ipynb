{
 "cells": [
  {
   "cell_type": "markdown",
   "metadata": {
    "slideshow": {
     "slide_type": "slide"
    }
   },
   "source": [
    "# <font color=navy> Lecture 8. Qulitative Predictors & Interaction Terms </font>"
   ]
  },
  {
   "cell_type": "code",
   "execution_count": 2,
   "metadata": {
    "slideshow": {
     "slide_type": "skip"
    }
   },
   "outputs": [],
   "source": [
    "import pandas as pd\n",
    "import numpy as np\n",
    "import matplotlib.pylab as plt\n",
    "import scipy.stats as stats\n",
    "import statsmodels.api as sm\n",
    "import statsmodels.formula.api as smf\n",
    "from statsmodels.stats.outliers_influence import OLSInfluence\n",
    "data_path = \"../data/\"\n",
    "credit = pd.read_csv(data_path + \"Credit.csv\", index_col=0)"
   ]
  },
  {
   "cell_type": "markdown",
   "metadata": {
    "slideshow": {
     "slide_type": "fragment"
    }
   },
   "source": [
    "## 8.1 레벨 수가 2인 범주형 설명변수 \n"
   ]
  },
  {
   "cell_type": "code",
   "execution_count": 3,
   "metadata": {
    "slideshow": {
     "slide_type": "fragment"
    }
   },
   "outputs": [
    {
     "data": {
      "text/html": [
       "<div>\n",
       "<style scoped>\n",
       "    .dataframe tbody tr th:only-of-type {\n",
       "        vertical-align: middle;\n",
       "    }\n",
       "\n",
       "    .dataframe tbody tr th {\n",
       "        vertical-align: top;\n",
       "    }\n",
       "\n",
       "    .dataframe thead th {\n",
       "        text-align: right;\n",
       "    }\n",
       "</style>\n",
       "<table border=\"1\" class=\"dataframe\">\n",
       "  <thead>\n",
       "    <tr style=\"text-align: right;\">\n",
       "      <th></th>\n",
       "      <th>Income</th>\n",
       "      <th>Limit</th>\n",
       "      <th>Rating</th>\n",
       "      <th>Cards</th>\n",
       "      <th>Age</th>\n",
       "      <th>Education</th>\n",
       "      <th>Gender</th>\n",
       "      <th>Student</th>\n",
       "      <th>Married</th>\n",
       "      <th>Ethnicity</th>\n",
       "      <th>Balance</th>\n",
       "    </tr>\n",
       "  </thead>\n",
       "  <tbody>\n",
       "    <tr>\n",
       "      <th>1</th>\n",
       "      <td>14.891</td>\n",
       "      <td>3606</td>\n",
       "      <td>283</td>\n",
       "      <td>2</td>\n",
       "      <td>34</td>\n",
       "      <td>11</td>\n",
       "      <td>Male</td>\n",
       "      <td>No</td>\n",
       "      <td>Yes</td>\n",
       "      <td>Caucasian</td>\n",
       "      <td>333</td>\n",
       "    </tr>\n",
       "    <tr>\n",
       "      <th>2</th>\n",
       "      <td>106.025</td>\n",
       "      <td>6645</td>\n",
       "      <td>483</td>\n",
       "      <td>3</td>\n",
       "      <td>82</td>\n",
       "      <td>15</td>\n",
       "      <td>Female</td>\n",
       "      <td>Yes</td>\n",
       "      <td>Yes</td>\n",
       "      <td>Asian</td>\n",
       "      <td>903</td>\n",
       "    </tr>\n",
       "    <tr>\n",
       "      <th>3</th>\n",
       "      <td>104.593</td>\n",
       "      <td>7075</td>\n",
       "      <td>514</td>\n",
       "      <td>4</td>\n",
       "      <td>71</td>\n",
       "      <td>11</td>\n",
       "      <td>Male</td>\n",
       "      <td>No</td>\n",
       "      <td>No</td>\n",
       "      <td>Asian</td>\n",
       "      <td>580</td>\n",
       "    </tr>\n",
       "    <tr>\n",
       "      <th>4</th>\n",
       "      <td>148.924</td>\n",
       "      <td>9504</td>\n",
       "      <td>681</td>\n",
       "      <td>3</td>\n",
       "      <td>36</td>\n",
       "      <td>11</td>\n",
       "      <td>Female</td>\n",
       "      <td>No</td>\n",
       "      <td>No</td>\n",
       "      <td>Asian</td>\n",
       "      <td>964</td>\n",
       "    </tr>\n",
       "    <tr>\n",
       "      <th>5</th>\n",
       "      <td>55.882</td>\n",
       "      <td>4897</td>\n",
       "      <td>357</td>\n",
       "      <td>2</td>\n",
       "      <td>68</td>\n",
       "      <td>16</td>\n",
       "      <td>Male</td>\n",
       "      <td>No</td>\n",
       "      <td>Yes</td>\n",
       "      <td>Caucasian</td>\n",
       "      <td>331</td>\n",
       "    </tr>\n",
       "  </tbody>\n",
       "</table>\n",
       "</div>"
      ],
      "text/plain": [
       "    Income  Limit  Rating  Cards  Age  Education  Gender Student Married  \\\n",
       "1   14.891   3606     283      2   34         11    Male      No     Yes   \n",
       "2  106.025   6645     483      3   82         15  Female     Yes     Yes   \n",
       "3  104.593   7075     514      4   71         11    Male      No      No   \n",
       "4  148.924   9504     681      3   36         11  Female      No      No   \n",
       "5   55.882   4897     357      2   68         16    Male      No     Yes   \n",
       "\n",
       "   Ethnicity  Balance  \n",
       "1  Caucasian      333  \n",
       "2      Asian      903  \n",
       "3      Asian      580  \n",
       "4      Asian      964  \n",
       "5  Caucasian      331  "
      ]
     },
     "execution_count": 3,
     "metadata": {},
     "output_type": "execute_result"
    }
   ],
   "source": [
    "credit.head()"
   ]
  },
  {
   "cell_type": "markdown",
   "metadata": {
    "slideshow": {
     "slide_type": "slide"
    }
   },
   "source": [
    "\n",
    "- 두 개의 가능한 값을 가지는 indicator variable (dummy variable)을 생성 \n",
    "$$ d_i  = \\left\\{ \\begin{matrix}\n",
    "1 & i \\mbox{번째 사람이 학생인 경우} \\\\\n",
    "0 & i \\mbox{번째 사람이 학생이 아닌 경우}\n",
    "\\end{matrix}\n",
    "\\right.$$\n",
    "\n",
    "- 이 변수를 설명변수로 한 회귀식 \n",
    "$$ y_i = \\beta_0 + \\beta_1 d_i + \\epsilon_i$$\n",
    "\n",
    "$$ y_i = \\left\\{ \\begin{matrix}\n",
    "\\beta_0 + \\beta_1 +\\epsilon_i   & i \\mbox{번째 사람이 학생인 경우} \\\\\n",
    "\\beta_0 + \\epsilon_i  & i \\mbox{번째 사람이 학생이 아닌 경우}\n",
    "\\end{matrix}\n",
    "\\right.$$\n",
    "\n",
    "- $\\beta_0$: 학생이 아닌 사람의 평균 신용카드 대금\n",
    "- $\\beta_0+ \\beta_1$: 학생의 평균 신용카드 대금 \n",
    "- $\\beta_1$: 학생과 학생이 아닌 사람의 평균 신용카드 대금의 차이 "
   ]
  },
  {
   "cell_type": "markdown",
   "metadata": {
    "slideshow": {
     "slide_type": "slide"
    }
   },
   "source": [
    "- 이 때 기준이 되는  __reference level__ 은 무엇인가?\n",
    "   - 기준: Student = No인 그룹\n",
    "   - 기준이 되는 level의 평균 balance: $\\beta_0$\n",
    "   - 기준이 되는 level에 비해 다른 level의 평균 balance가 얼만큼 큰가?: $\\beta_1$\n",
    "   "
   ]
  },
  {
   "cell_type": "code",
   "execution_count": 4,
   "metadata": {
    "scrolled": true,
    "slideshow": {
     "slide_type": "slide"
    }
   },
   "outputs": [
    {
     "data": {
      "text/html": [
       "<table class=\"simpletable\">\n",
       "<tr>\n",
       "         <td></td>           <th>coef</th>     <th>std err</th>      <th>t</th>      <th>P>|t|</th>  <th>[0.025</th>    <th>0.975]</th>  \n",
       "</tr>\n",
       "<tr>\n",
       "  <th>Intercept</th>      <td>  480.3694</td> <td>   23.434</td> <td>   20.499</td> <td> 0.000</td> <td>  434.300</td> <td>  526.439</td>\n",
       "</tr>\n",
       "<tr>\n",
       "  <th>Student[T.Yes]</th> <td>  396.4556</td> <td>   74.104</td> <td>    5.350</td> <td> 0.000</td> <td>  250.771</td> <td>  542.140</td>\n",
       "</tr>\n",
       "</table>"
      ],
      "text/plain": [
       "<class 'statsmodels.iolib.table.SimpleTable'>"
      ]
     },
     "execution_count": 4,
     "metadata": {},
     "output_type": "execute_result"
    }
   ],
   "source": [
    "model = smf.ols('Balance ~ Student', data = credit).fit()\n",
    "model.summary().tables[1]"
   ]
  },
  {
   "cell_type": "markdown",
   "metadata": {
    "slideshow": {
     "slide_type": "slide"
    }
   },
   "source": [
    "- 이 때의 design matrix는? "
   ]
  },
  {
   "cell_type": "code",
   "execution_count": 5,
   "metadata": {
    "slideshow": {
     "slide_type": "fragment"
    }
   },
   "outputs": [
    {
     "data": {
      "text/html": [
       "<div>\n",
       "<style scoped>\n",
       "    .dataframe tbody tr th:only-of-type {\n",
       "        vertical-align: middle;\n",
       "    }\n",
       "\n",
       "    .dataframe tbody tr th {\n",
       "        vertical-align: top;\n",
       "    }\n",
       "\n",
       "    .dataframe thead th {\n",
       "        text-align: right;\n",
       "    }\n",
       "</style>\n",
       "<table border=\"1\" class=\"dataframe\">\n",
       "  <thead>\n",
       "    <tr style=\"text-align: right;\">\n",
       "      <th></th>\n",
       "      <th>Intercept</th>\n",
       "      <th>Student[T.Yes]</th>\n",
       "    </tr>\n",
       "  </thead>\n",
       "  <tbody>\n",
       "    <tr>\n",
       "      <th>1</th>\n",
       "      <td>1.0</td>\n",
       "      <td>0.0</td>\n",
       "    </tr>\n",
       "    <tr>\n",
       "      <th>2</th>\n",
       "      <td>1.0</td>\n",
       "      <td>1.0</td>\n",
       "    </tr>\n",
       "    <tr>\n",
       "      <th>3</th>\n",
       "      <td>1.0</td>\n",
       "      <td>0.0</td>\n",
       "    </tr>\n",
       "    <tr>\n",
       "      <th>4</th>\n",
       "      <td>1.0</td>\n",
       "      <td>0.0</td>\n",
       "    </tr>\n",
       "    <tr>\n",
       "      <th>5</th>\n",
       "      <td>1.0</td>\n",
       "      <td>0.0</td>\n",
       "    </tr>\n",
       "  </tbody>\n",
       "</table>\n",
       "</div>"
      ],
      "text/plain": [
       "   Intercept  Student[T.Yes]\n",
       "1        1.0             0.0\n",
       "2        1.0             1.0\n",
       "3        1.0             0.0\n",
       "4        1.0             0.0\n",
       "5        1.0             0.0"
      ]
     },
     "execution_count": 5,
     "metadata": {},
     "output_type": "execute_result"
    }
   ],
   "source": [
    "import patsy\n",
    "y, X = patsy.dmatrices('Balance ~ Student', data = credit, return_type='dataframe')\n",
    "X.head()"
   ]
  },
  {
   "cell_type": "markdown",
   "metadata": {
    "slideshow": {
     "slide_type": "slide"
    }
   },
   "source": [
    "  \n",
    "- $H_0: \\beta_1=0$ \n",
    "    - \"학생과 학생이 아닌 사람의 평균 신용카드 대금의 차이가 없다\"라는 귀무가설 \n",
    "    - p-value<0.05 이므로 두 집단 간의 유의한 통계적인 차이가 있다고 결론 \n",
    "   "
   ]
  },
  {
   "cell_type": "markdown",
   "metadata": {
    "slideshow": {
     "slide_type": "slide"
    }
   },
   "source": [
    "## 8.2 레벨 수가 3 이상인 범주형 설명변수 \n",
    "- Ethnicity: 백인, 흑인, 아시아인 (레벨이 3개)\n",
    "- 2개의 dummy variable 생성\n",
    "\n",
    "$$ d_{1i}  = \\left\\{ \\begin{matrix}\n",
    "     1 & i \\mbox{번째 사람이 아시아인 경우} \\\\\n",
    "     0 & i \\mbox{번째 사람이 아시아인이 아닌 경우 }\n",
    "     \\end{matrix}\n",
    "     \\right.$$\n",
    "     \n",
    "$$ d_{2i}  = \\left\\{ \\begin{matrix}\n",
    "     1 & i \\mbox{번째 사람이 백인인 경우} \\\\\n",
    "     0 & i \\mbox{번째 사람이 백인이 아닌 경우 }\n",
    "     \\end{matrix}\n",
    "     \\right.$$\n",
    "- 이 경우 reference level은 무엇인가?\n",
    "\n",
    "- 이 변수를 설명변수로 한 각 그룹의 회귀식 \n",
    "$$ y_i = \\beta_0 + \\beta_1 d_{1i} + \\beta_2 d_{2i}  + \\epsilon_i $$\n",
    "\n",
    "$$ y_i = \\left\\{ \\begin{matrix}\n",
    "    \\beta_0 + \\beta_1 +\\epsilon_i   & i \\mbox{번째 사람이 아시아인인  경우} \\\\\n",
    "    \\beta_0 + \\beta_2+ \\epsilon_i  & i \\mbox{번째 사람이 백인인  경우}\\\\\n",
    "    \\beta_0 + \\epsilon_i  & i \\mbox{번째 사람이 흑인인   경우}\\\\\n",
    "    \\end{matrix}\n",
    "    \\right.$$\n",
    "\n",
    "    "
   ]
  },
  {
   "cell_type": "code",
   "execution_count": 6,
   "metadata": {
    "slideshow": {
     "slide_type": "slide"
    }
   },
   "outputs": [
    {
     "data": {
      "text/html": [
       "<table class=\"simpletable\">\n",
       "<tr>\n",
       "             <td></td>               <th>coef</th>     <th>std err</th>      <th>t</th>      <th>P>|t|</th>  <th>[0.025</th>    <th>0.975]</th>  \n",
       "</tr>\n",
       "<tr>\n",
       "  <th>Intercept</th>              <td>  531.0000</td> <td>   46.319</td> <td>   11.464</td> <td> 0.000</td> <td>  439.939</td> <td>  622.061</td>\n",
       "</tr>\n",
       "<tr>\n",
       "  <th>Ethnicity[T.Asian]</th>     <td>  -18.6863</td> <td>   65.021</td> <td>   -0.287</td> <td> 0.774</td> <td> -146.515</td> <td>  109.142</td>\n",
       "</tr>\n",
       "<tr>\n",
       "  <th>Ethnicity[T.Caucasian]</th> <td>  -12.5025</td> <td>   56.681</td> <td>   -0.221</td> <td> 0.826</td> <td> -123.935</td> <td>   98.930</td>\n",
       "</tr>\n",
       "</table>"
      ],
      "text/plain": [
       "<class 'statsmodels.iolib.table.SimpleTable'>"
      ]
     },
     "execution_count": 6,
     "metadata": {},
     "output_type": "execute_result"
    }
   ],
   "source": [
    "model2 = smf.ols('Balance ~ Ethnicity ', data = credit).fit()\n",
    "model2.summary().tables[1]"
   ]
  },
  {
   "cell_type": "code",
   "execution_count": 7,
   "metadata": {},
   "outputs": [
    {
     "data": {
      "text/html": [
       "<table class=\"simpletable\">\n",
       "<caption>OLS Regression Results</caption>\n",
       "<tr>\n",
       "  <th>Dep. Variable:</th>         <td>Balance</td>     <th>  R-squared:         </th> <td>   0.000</td>\n",
       "</tr>\n",
       "<tr>\n",
       "  <th>Model:</th>                   <td>OLS</td>       <th>  Adj. R-squared:    </th> <td>  -0.005</td>\n",
       "</tr>\n",
       "<tr>\n",
       "  <th>Method:</th>             <td>Least Squares</td>  <th>  F-statistic:       </th> <td> 0.04344</td>\n",
       "</tr>\n",
       "<tr>\n",
       "  <th>Date:</th>             <td>Wed, 18 Nov 2020</td> <th>  Prob (F-statistic):</th>  <td> 0.957</td> \n",
       "</tr>\n",
       "<tr>\n",
       "  <th>Time:</th>                 <td>15:49:21</td>     <th>  Log-Likelihood:    </th> <td> -3019.3</td>\n",
       "</tr>\n",
       "<tr>\n",
       "  <th>No. Observations:</th>      <td>   400</td>      <th>  AIC:               </th> <td>   6045.</td>\n",
       "</tr>\n",
       "<tr>\n",
       "  <th>Df Residuals:</th>          <td>   397</td>      <th>  BIC:               </th> <td>   6057.</td>\n",
       "</tr>\n",
       "<tr>\n",
       "  <th>Df Model:</th>              <td>     2</td>      <th>                     </th>     <td> </td>   \n",
       "</tr>\n",
       "<tr>\n",
       "  <th>Covariance Type:</th>      <td>nonrobust</td>    <th>                     </th>     <td> </td>   \n",
       "</tr>\n",
       "</table>"
      ],
      "text/plain": [
       "<class 'statsmodels.iolib.table.SimpleTable'>"
      ]
     },
     "execution_count": 7,
     "metadata": {},
     "output_type": "execute_result"
    }
   ],
   "source": [
    "model2.summary().tables[0]"
   ]
  },
  {
   "cell_type": "code",
   "execution_count": 8,
   "metadata": {},
   "outputs": [
    {
     "data": {
      "text/html": [
       "<div>\n",
       "<style scoped>\n",
       "    .dataframe tbody tr th:only-of-type {\n",
       "        vertical-align: middle;\n",
       "    }\n",
       "\n",
       "    .dataframe tbody tr th {\n",
       "        vertical-align: top;\n",
       "    }\n",
       "\n",
       "    .dataframe thead th {\n",
       "        text-align: right;\n",
       "    }\n",
       "</style>\n",
       "<table border=\"1\" class=\"dataframe\">\n",
       "  <thead>\n",
       "    <tr style=\"text-align: right;\">\n",
       "      <th></th>\n",
       "      <th>df</th>\n",
       "      <th>sum_sq</th>\n",
       "      <th>mean_sq</th>\n",
       "      <th>F</th>\n",
       "      <th>PR(&gt;F)</th>\n",
       "    </tr>\n",
       "  </thead>\n",
       "  <tbody>\n",
       "    <tr>\n",
       "      <th>Ethnicity</th>\n",
       "      <td>2.0</td>\n",
       "      <td>1.845420e+04</td>\n",
       "      <td>9227.100236</td>\n",
       "      <td>0.043443</td>\n",
       "      <td>0.957492</td>\n",
       "    </tr>\n",
       "    <tr>\n",
       "      <th>Residual</th>\n",
       "      <td>397.0</td>\n",
       "      <td>8.432146e+07</td>\n",
       "      <td>212396.618916</td>\n",
       "      <td>NaN</td>\n",
       "      <td>NaN</td>\n",
       "    </tr>\n",
       "  </tbody>\n",
       "</table>\n",
       "</div>"
      ],
      "text/plain": [
       "              df        sum_sq        mean_sq         F    PR(>F)\n",
       "Ethnicity    2.0  1.845420e+04    9227.100236  0.043443  0.957492\n",
       "Residual   397.0  8.432146e+07  212396.618916       NaN       NaN"
      ]
     },
     "execution_count": 8,
     "metadata": {},
     "output_type": "execute_result"
    }
   ],
   "source": [
    "from statsmodels.stats.anova import anova_lm\n",
    "anova_lm(model2)"
   ]
  },
  {
   "cell_type": "markdown",
   "metadata": {
    "slideshow": {
     "slide_type": "slide"
    }
   },
   "source": [
    "\n",
    "#### 기준이 되는 레벨(reference level)을 바꾸고 싶다면?\n"
   ]
  },
  {
   "cell_type": "code",
   "execution_count": 9,
   "metadata": {
    "slideshow": {
     "slide_type": "fragment"
    }
   },
   "outputs": [
    {
     "data": {
      "text/html": [
       "<table class=\"simpletable\">\n",
       "<tr>\n",
       "                                 <td></td>                                   <th>coef</th>     <th>std err</th>      <th>t</th>      <th>P>|t|</th>  <th>[0.025</th>    <th>0.975]</th>  \n",
       "</tr>\n",
       "<tr>\n",
       "  <th>Intercept</th>                                                      <td>  512.3137</td> <td>   45.632</td> <td>   11.227</td> <td> 0.000</td> <td>  422.602</td> <td>  602.025</td>\n",
       "</tr>\n",
       "<tr>\n",
       "  <th>C(Ethnicity, Treatment(reference=\"Asian\"))[T.African American]</th> <td>   18.6863</td> <td>   65.021</td> <td>    0.287</td> <td> 0.774</td> <td> -109.142</td> <td>  146.515</td>\n",
       "</tr>\n",
       "<tr>\n",
       "  <th>C(Ethnicity, Treatment(reference=\"Asian\"))[T.Caucasian]</th>        <td>    6.1838</td> <td>   56.122</td> <td>    0.110</td> <td> 0.912</td> <td> -104.149</td> <td>  116.517</td>\n",
       "</tr>\n",
       "</table>"
      ],
      "text/plain": [
       "<class 'statsmodels.iolib.table.SimpleTable'>"
      ]
     },
     "execution_count": 9,
     "metadata": {},
     "output_type": "execute_result"
    }
   ],
   "source": [
    "model3 = smf.ols('Balance ~ C(Ethnicity, Treatment(reference = \"Asian\")) ', data = credit).fit()\n",
    "model3.summary().tables[1]"
   ]
  },
  {
   "cell_type": "code",
   "execution_count": 10,
   "metadata": {
    "slideshow": {
     "slide_type": "slide"
    }
   },
   "outputs": [],
   "source": [
    "y, X1 = patsy.dmatrices('Balance ~ Ethnicity', data = credit, return_type = \"dataframe\")\n",
    "y, X2 = patsy.dmatrices('Balance ~ C(Ethnicity, Treatment(reference = \"Asian\")) ', data = credit, return_type=\"dataframe\")"
   ]
  },
  {
   "cell_type": "code",
   "execution_count": 11,
   "metadata": {
    "slideshow": {
     "slide_type": "fragment"
    }
   },
   "outputs": [
    {
     "data": {
      "text/html": [
       "<div>\n",
       "<style scoped>\n",
       "    .dataframe tbody tr th:only-of-type {\n",
       "        vertical-align: middle;\n",
       "    }\n",
       "\n",
       "    .dataframe tbody tr th {\n",
       "        vertical-align: top;\n",
       "    }\n",
       "\n",
       "    .dataframe thead th {\n",
       "        text-align: right;\n",
       "    }\n",
       "</style>\n",
       "<table border=\"1\" class=\"dataframe\">\n",
       "  <thead>\n",
       "    <tr style=\"text-align: right;\">\n",
       "      <th></th>\n",
       "      <th>Intercept</th>\n",
       "      <th>Ethnicity[T.Asian]</th>\n",
       "      <th>Ethnicity[T.Caucasian]</th>\n",
       "    </tr>\n",
       "  </thead>\n",
       "  <tbody>\n",
       "    <tr>\n",
       "      <th>1</th>\n",
       "      <td>1.0</td>\n",
       "      <td>0.0</td>\n",
       "      <td>1.0</td>\n",
       "    </tr>\n",
       "    <tr>\n",
       "      <th>2</th>\n",
       "      <td>1.0</td>\n",
       "      <td>1.0</td>\n",
       "      <td>0.0</td>\n",
       "    </tr>\n",
       "    <tr>\n",
       "      <th>3</th>\n",
       "      <td>1.0</td>\n",
       "      <td>1.0</td>\n",
       "      <td>0.0</td>\n",
       "    </tr>\n",
       "    <tr>\n",
       "      <th>4</th>\n",
       "      <td>1.0</td>\n",
       "      <td>1.0</td>\n",
       "      <td>0.0</td>\n",
       "    </tr>\n",
       "    <tr>\n",
       "      <th>5</th>\n",
       "      <td>1.0</td>\n",
       "      <td>0.0</td>\n",
       "      <td>1.0</td>\n",
       "    </tr>\n",
       "  </tbody>\n",
       "</table>\n",
       "</div>"
      ],
      "text/plain": [
       "   Intercept  Ethnicity[T.Asian]  Ethnicity[T.Caucasian]\n",
       "1        1.0                 0.0                     1.0\n",
       "2        1.0                 1.0                     0.0\n",
       "3        1.0                 1.0                     0.0\n",
       "4        1.0                 1.0                     0.0\n",
       "5        1.0                 0.0                     1.0"
      ]
     },
     "execution_count": 11,
     "metadata": {},
     "output_type": "execute_result"
    }
   ],
   "source": [
    "X1.head()"
   ]
  },
  {
   "cell_type": "code",
   "execution_count": 12,
   "metadata": {
    "slideshow": {
     "slide_type": "fragment"
    }
   },
   "outputs": [
    {
     "data": {
      "text/html": [
       "<div>\n",
       "<style scoped>\n",
       "    .dataframe tbody tr th:only-of-type {\n",
       "        vertical-align: middle;\n",
       "    }\n",
       "\n",
       "    .dataframe tbody tr th {\n",
       "        vertical-align: top;\n",
       "    }\n",
       "\n",
       "    .dataframe thead th {\n",
       "        text-align: right;\n",
       "    }\n",
       "</style>\n",
       "<table border=\"1\" class=\"dataframe\">\n",
       "  <thead>\n",
       "    <tr style=\"text-align: right;\">\n",
       "      <th></th>\n",
       "      <th>Intercept</th>\n",
       "      <th>C(Ethnicity, Treatment(reference=\"Asian\"))[T.African American]</th>\n",
       "      <th>C(Ethnicity, Treatment(reference=\"Asian\"))[T.Caucasian]</th>\n",
       "    </tr>\n",
       "  </thead>\n",
       "  <tbody>\n",
       "    <tr>\n",
       "      <th>1</th>\n",
       "      <td>1.0</td>\n",
       "      <td>0.0</td>\n",
       "      <td>1.0</td>\n",
       "    </tr>\n",
       "    <tr>\n",
       "      <th>2</th>\n",
       "      <td>1.0</td>\n",
       "      <td>0.0</td>\n",
       "      <td>0.0</td>\n",
       "    </tr>\n",
       "    <tr>\n",
       "      <th>3</th>\n",
       "      <td>1.0</td>\n",
       "      <td>0.0</td>\n",
       "      <td>0.0</td>\n",
       "    </tr>\n",
       "    <tr>\n",
       "      <th>4</th>\n",
       "      <td>1.0</td>\n",
       "      <td>0.0</td>\n",
       "      <td>0.0</td>\n",
       "    </tr>\n",
       "    <tr>\n",
       "      <th>5</th>\n",
       "      <td>1.0</td>\n",
       "      <td>0.0</td>\n",
       "      <td>1.0</td>\n",
       "    </tr>\n",
       "  </tbody>\n",
       "</table>\n",
       "</div>"
      ],
      "text/plain": [
       "   Intercept  C(Ethnicity, Treatment(reference=\"Asian\"))[T.African American]  \\\n",
       "1        1.0                                                0.0                \n",
       "2        1.0                                                0.0                \n",
       "3        1.0                                                0.0                \n",
       "4        1.0                                                0.0                \n",
       "5        1.0                                                0.0                \n",
       "\n",
       "   C(Ethnicity, Treatment(reference=\"Asian\"))[T.Caucasian]  \n",
       "1                                                1.0        \n",
       "2                                                0.0        \n",
       "3                                                0.0        \n",
       "4                                                0.0        \n",
       "5                                                1.0        "
      ]
     },
     "execution_count": 12,
     "metadata": {},
     "output_type": "execute_result"
    }
   ],
   "source": [
    "X2.head()"
   ]
  },
  {
   "cell_type": "markdown",
   "metadata": {
    "slideshow": {
     "slide_type": "slide"
    }
   },
   "source": [
    "## 8.3 범주형 설명변수와 연속형 설명변수 \n",
    "- 범주형 설명변수와 연속형 설명변수를 함께 사용한다면?\n",
    "   \n",
    "\n",
    "$$ y_i = \\beta_0 + \\beta_1 x_i + \\beta_2 d_i +\\epsilon_i $$"
   ]
  },
  {
   "cell_type": "code",
   "execution_count": 13,
   "metadata": {
    "slideshow": {
     "slide_type": "fragment"
    }
   },
   "outputs": [
    {
     "data": {
      "text/html": [
       "<table class=\"simpletable\">\n",
       "<tr>\n",
       "         <td></td>           <th>coef</th>     <th>std err</th>      <th>t</th>      <th>P>|t|</th>  <th>[0.025</th>    <th>0.975]</th>  \n",
       "</tr>\n",
       "<tr>\n",
       "  <th>Intercept</th>      <td>  211.1430</td> <td>   32.457</td> <td>    6.505</td> <td> 0.000</td> <td>  147.333</td> <td>  274.952</td>\n",
       "</tr>\n",
       "<tr>\n",
       "  <th>Student[T.Yes]</th> <td>  382.6705</td> <td>   65.311</td> <td>    5.859</td> <td> 0.000</td> <td>  254.272</td> <td>  511.069</td>\n",
       "</tr>\n",
       "<tr>\n",
       "  <th>Income</th>         <td>    5.9843</td> <td>    0.557</td> <td>   10.751</td> <td> 0.000</td> <td>    4.890</td> <td>    7.079</td>\n",
       "</tr>\n",
       "</table>"
      ],
      "text/plain": [
       "<class 'statsmodels.iolib.table.SimpleTable'>"
      ]
     },
     "execution_count": 13,
     "metadata": {},
     "output_type": "execute_result"
    }
   ],
   "source": [
    "model4 = smf.ols('Balance ~ Income + Student ', data = credit).fit()\n",
    "model4.summary().tables[1]"
   ]
  },
  {
   "cell_type": "markdown",
   "metadata": {
    "slideshow": {
     "slide_type": "fragment"
    }
   },
   "source": [
    "- `Student[T.Yes]`의 계수(382.67): Income이 동일한 수준일 때 학생과 학생 아닌 사람의 평균 신용카드 대금의 차이\n",
    "    \n",
    "- `Income`의 계수(5.98): Income이 1 증가할 때  Balance는 5.98 증가한다. (Student/non-student 공통) "
   ]
  },
  {
   "cell_type": "code",
   "execution_count": 15,
   "metadata": {},
   "outputs": [],
   "source": [
    "credit['fitted'] = model4.fittedvalues"
   ]
  },
  {
   "cell_type": "code",
   "execution_count": 33,
   "metadata": {},
   "outputs": [
    {
     "data": {
      "image/png": "[encoded data removed]",
      "text/plain": [
       "<Figure size 1080x504 with 1 Axes>"
      ]
     },
     "metadata": {
      "needs_background": "light"
     },
     "output_type": "display_data"
    }
   ],
   "source": [
    "import seaborn as sns\n",
    "fig, ax = plt.subplots(figsize=(15,7))\n",
    "\n",
    "credit.groupby('Student').plot(x='Income', y='fitted', ax=ax)\n",
    "sns.scatterplot(x= \"Income\", y=\"Balance\", data=credit, hue=\"Student\")\n",
    "plt.show()"
   ]
  },
  {
   "cell_type": "markdown",
   "metadata": {
    "lines_to_next_cell": 0,
    "slideshow": {
     "slide_type": "slide"
    }
   },
   "source": [
    "## 8.4 Effect coding\n",
    "- 경우에 따라 특정 level을 기준으로 비교하기 보다는 모든 집단의 평균으로부터 각 집단이 평균의 유의한 차이를 보이는지가 궁금할 수 있다.\n",
    "- Design matrix를 어떻게 구성하면 좋을까?\n",
    "\n",
    "$$ d_i  = \\left\\{ \\begin{matrix}\n",
    "1 & i \\mbox{번째 사람이 학생이 아닌 경우} \\\\\n",
    "-1 & i \\mbox{번째 사람이 학생인 경우}\n",
    "\\end{matrix}\n",
    "\\right.$$\n",
    "\n",
    "$$ y_i = \\beta_0 + \\beta_1 d_i + \\epsilon_i $$\n",
    "$$ y_i = \\left\\{ \\begin{matrix}\n",
    "\\beta_0 + \\beta_1 +\\epsilon_i   & i \\mbox{번째 사람이 학생이 아닌 경우} \\\\\n",
    "\\beta_0 - \\beta_1 + \\epsilon_i  & i \\mbox{번째 사람이 학생인 경우}\n",
    "\\end{matrix}\n",
    "\\right.$$\n",
    "\n",
    "- $\\beta_0$: 학생 여부를 고려하지 않은 전체 평균 신용카드 대금\n",
    "- $\\beta_1$: 학생들은 평균보다 높고 학생이 아닌 사람들은 평균보다 낮은 신용카드 대금의 양 \n",
    "\n",
    "    "
   ]
  },
  {
   "cell_type": "code",
   "execution_count": 74,
   "metadata": {
    "slideshow": {
     "slide_type": "slide"
    }
   },
   "outputs": [
    {
     "data": {
      "text/html": [
       "<table class=\"simpletable\">\n",
       "<tr>\n",
       "            <td></td>               <th>coef</th>     <th>std err</th>      <th>t</th>      <th>P>|t|</th>  <th>[0.025</th>    <th>0.975]</th>  \n",
       "</tr>\n",
       "<tr>\n",
       "  <th>Intercept</th>             <td>  402.4782</td> <td>   41.540</td> <td>    9.689</td> <td> 0.000</td> <td>  320.812</td> <td>  484.144</td>\n",
       "</tr>\n",
       "<tr>\n",
       "  <th>C(Student, Sum)[S.No]</th> <td> -191.3353</td> <td>   32.655</td> <td>   -5.859</td> <td> 0.000</td> <td> -255.534</td> <td> -127.136</td>\n",
       "</tr>\n",
       "<tr>\n",
       "  <th>Income</th>                <td>    5.9843</td> <td>    0.557</td> <td>   10.751</td> <td> 0.000</td> <td>    4.890</td> <td>    7.079</td>\n",
       "</tr>\n",
       "</table>"
      ],
      "text/plain": [
       "<class 'statsmodels.iolib.table.SimpleTable'>"
      ]
     },
     "execution_count": 74,
     "metadata": {},
     "output_type": "execute_result"
    }
   ],
   "source": [
    "model5 = smf.ols('Balance ~ Income + C(Student, Sum)', data = credit).fit()\n",
    "model5.summary().tables[1]"
   ]
  },
  {
   "cell_type": "code",
   "execution_count": 61,
   "metadata": {
    "slideshow": {
     "slide_type": "fragment"
    }
   },
   "outputs": [
    {
     "data": {
      "text/html": [
       "<div>\n",
       "<style scoped>\n",
       "    .dataframe tbody tr th:only-of-type {\n",
       "        vertical-align: middle;\n",
       "    }\n",
       "\n",
       "    .dataframe tbody tr th {\n",
       "        vertical-align: top;\n",
       "    }\n",
       "\n",
       "    .dataframe thead th {\n",
       "        text-align: right;\n",
       "    }\n",
       "</style>\n",
       "<table border=\"1\" class=\"dataframe\">\n",
       "  <thead>\n",
       "    <tr style=\"text-align: right;\">\n",
       "      <th></th>\n",
       "      <th>Intercept</th>\n",
       "      <th>C(Student, Sum)[S.No]</th>\n",
       "      <th>Income</th>\n",
       "    </tr>\n",
       "  </thead>\n",
       "  <tbody>\n",
       "    <tr>\n",
       "      <th>1</th>\n",
       "      <td>1.0</td>\n",
       "      <td>1.0</td>\n",
       "      <td>14.891</td>\n",
       "    </tr>\n",
       "    <tr>\n",
       "      <th>2</th>\n",
       "      <td>1.0</td>\n",
       "      <td>-1.0</td>\n",
       "      <td>106.025</td>\n",
       "    </tr>\n",
       "    <tr>\n",
       "      <th>3</th>\n",
       "      <td>1.0</td>\n",
       "      <td>1.0</td>\n",
       "      <td>104.593</td>\n",
       "    </tr>\n",
       "    <tr>\n",
       "      <th>4</th>\n",
       "      <td>1.0</td>\n",
       "      <td>1.0</td>\n",
       "      <td>148.924</td>\n",
       "    </tr>\n",
       "    <tr>\n",
       "      <th>5</th>\n",
       "      <td>1.0</td>\n",
       "      <td>1.0</td>\n",
       "      <td>55.882</td>\n",
       "    </tr>\n",
       "  </tbody>\n",
       "</table>\n",
       "</div>"
      ],
      "text/plain": [
       "   Intercept  C(Student, Sum)[S.No]   Income\n",
       "1        1.0                    1.0   14.891\n",
       "2        1.0                   -1.0  106.025\n",
       "3        1.0                    1.0  104.593\n",
       "4        1.0                    1.0  148.924\n",
       "5        1.0                    1.0   55.882"
      ]
     },
     "execution_count": 61,
     "metadata": {},
     "output_type": "execute_result"
    }
   ],
   "source": [
    "y, X = patsy.dmatrices('Balance ~ Income + C(Student, Sum)', data=credit, return_type = \"dataframe\")\n",
    "X.head()"
   ]
  },
  {
   "cell_type": "markdown",
   "metadata": {
    "slideshow": {
     "slide_type": "slide"
    }
   },
   "source": [
    "## 8.5 선형모형의 확장: 교호작용(상호작용) 효과 (Interaction effect)\n",
    "\n",
    "- 표준  선형모형은 TV와 radio 둘 다 sales와 상관관계가 있으나 한 광고매체의 지출 증가가 sales에 미치는 영향은 다른 매체에 대한 지출과 무관하다고 가정\n",
    "\n",
    "- 라디오 광고지출이 TV 광고의 효과를 증가시킨다면? 고정 광고예산을 라디오와 TV에 절반씩 지출하는 것이 어느 한쪽에 모두 사용하는 것보다 판매량 증가가 더 클 수 있다.\n",
    "\n",
    "- 교호작용 항의 추가 \n",
    "\n",
    "\\begin{eqnarray*}\n",
    "Y&=&\\beta_0+ \\beta_1 X_1 + \\beta_2 X_2 + \\beta_3 X_1X_2 + \\epsilon\\\\\n",
    "&=& \\beta_0 + (\\beta_1 + \\beta_3X_2 ) X_1 + \\beta_2 X_2 +\\epsilon\\\\\n",
    "&=& \\beta_0 + \\tilde \\beta_1 X_1 + \\beta_2 X_2 +\\epsilon\n",
    "\\end{eqnarray*}"
   ]
  },
  {
   "cell_type": "code",
   "execution_count": 75,
   "metadata": {
    "slideshow": {
     "slide_type": "slide"
    }
   },
   "outputs": [
    {
     "data": {
      "text/html": [
       "<table class=\"simpletable\">\n",
       "<tr>\n",
       "      <td></td>         <th>coef</th>     <th>std err</th>      <th>t</th>      <th>P>|t|</th>  <th>[0.025</th>    <th>0.975]</th>  \n",
       "</tr>\n",
       "<tr>\n",
       "  <th>Intercept</th> <td>    6.7502</td> <td>    0.248</td> <td>   27.233</td> <td> 0.000</td> <td>    6.261</td> <td>    7.239</td>\n",
       "</tr>\n",
       "<tr>\n",
       "  <th>TV</th>        <td>    0.0191</td> <td>    0.002</td> <td>   12.699</td> <td> 0.000</td> <td>    0.016</td> <td>    0.022</td>\n",
       "</tr>\n",
       "<tr>\n",
       "  <th>Radio</th>     <td>    0.0289</td> <td>    0.009</td> <td>    3.241</td> <td> 0.001</td> <td>    0.011</td> <td>    0.046</td>\n",
       "</tr>\n",
       "<tr>\n",
       "  <th>TV:Radio</th>  <td>    0.0011</td> <td> 5.24e-05</td> <td>   20.727</td> <td> 0.000</td> <td>    0.001</td> <td>    0.001</td>\n",
       "</tr>\n",
       "</table>"
      ],
      "text/plain": [
       "<class 'statsmodels.iolib.table.SimpleTable'>"
      ]
     },
     "execution_count": 75,
     "metadata": {},
     "output_type": "execute_result"
    }
   ],
   "source": [
    "ad=pd.read_csv(data_path + \"Advertising.csv\")\n",
    "model_ad = smf.ols('Sales~TV+Radio+TV*Radio', data = ad).fit()\n",
    "model_ad.summary().tables[1]"
   ]
  },
  {
   "cell_type": "markdown",
   "metadata": {
    "slideshow": {
     "slide_type": "slide"
    }
   },
   "source": [
    "    \n",
    "\n",
    "- 교호작용 항이 유의함: 실제 상관관계가 가산적이지 않다는 증거\n",
    "- TV광고지출이 1천 달러 증가하면 판매량은  $(\\hat \\beta_1 + \\hat \\beta_3 \\times Radio) \\times 1,000$ 유닛 증가\n",
    "- 라디오 광고 지출이 1천달러 증가하면 판매량은  $(\\hat \\beta_2 + \\hat \\beta_3 \\times TV) \\times 1,000$ 유닛 증가 \n",
    "\n",
    "- 교호작용항이 유의하지만 주효과(main effect: 여기서는 TV와 radio)가 유의하지 않은 경우 주효과를 제거해야 하는가?\n",
    "    - 계층적 원리에 의해 교호작용을 포함하면  주효과가 유의하지 않더라도 모델에 포함 \n",
    "    - $X_1 \\times X_2$가 유의하면 $X_1$, $X_2$의 각 계수가 0인지는 관심 없음 \n",
    "    - 주효과를 제외하면 교호작용의 의미를 바꾸는 경향이 있음 "
   ]
  },
  {
   "cell_type": "markdown",
   "metadata": {
    "slideshow": {
     "slide_type": "slide"
    }
   },
   "source": [
    "### 범주형 변수와 연속형 변수 사이의 교호작용 \n",
    "- 학생 여부에 따라 소득이 증가할 때 카드잔고가 증가하는 속도가 다를 수 있지 않을까? 즉, 학생 여부와 소득 간의 교호작용이 존재하지 않을까? \n",
    "\n",
    "- credit 데이터에서 income과 student 사이의 교호작용 고려 \n",
    "$$ balance_i \\approx \\beta_0 + \\beta_1 \\times income_i + \\beta_2 \\times student + \\beta_3 \\times income_i \\times student_i $$\n",
    " \n",
    "<img src='http://drive.google.com/uc?export=view&id=1w5rLlYUrNqzNL-08pEHF47aZW1oZF7XI' width=600/><br>"
   ]
  },
  {
   "cell_type": "code",
   "execution_count": 76,
   "metadata": {
    "slideshow": {
     "slide_type": "slide"
    }
   },
   "outputs": [
    {
     "data": {
      "text/html": [
       "<table class=\"simpletable\">\n",
       "<tr>\n",
       "            <td></td>               <th>coef</th>     <th>std err</th>      <th>t</th>      <th>P>|t|</th>  <th>[0.025</th>    <th>0.975]</th>  \n",
       "</tr>\n",
       "<tr>\n",
       "  <th>Intercept</th>             <td>  200.6232</td> <td>   33.698</td> <td>    5.953</td> <td> 0.000</td> <td>  134.373</td> <td>  266.873</td>\n",
       "</tr>\n",
       "<tr>\n",
       "  <th>Student[T.Yes]</th>        <td>  476.6758</td> <td>  104.351</td> <td>    4.568</td> <td> 0.000</td> <td>  271.524</td> <td>  681.827</td>\n",
       "</tr>\n",
       "<tr>\n",
       "  <th>Income</th>                <td>    6.2182</td> <td>    0.592</td> <td>   10.502</td> <td> 0.000</td> <td>    5.054</td> <td>    7.382</td>\n",
       "</tr>\n",
       "<tr>\n",
       "  <th>Income:Student[T.Yes]</th> <td>   -1.9992</td> <td>    1.731</td> <td>   -1.155</td> <td> 0.249</td> <td>   -5.403</td> <td>    1.404</td>\n",
       "</tr>\n",
       "</table>"
      ],
      "text/plain": [
       "<class 'statsmodels.iolib.table.SimpleTable'>"
      ]
     },
     "execution_count": 76,
     "metadata": {},
     "output_type": "execute_result"
    }
   ],
   "source": [
    "model6 = smf.ols('Balance~(Income+Student)**2', data = credit).fit()\n",
    "model6.summary().tables[1]"
   ]
  },
  {
   "cell_type": "markdown",
   "metadata": {
    "slideshow": {
     "slide_type": "fragment"
    }
   },
   "source": [
    "\n",
    "- 교호작용 항이 통계적으로 유의하지 않으므로 학생 여부에 따라 소득의 기울기가 다르지 않다고 결론. 즉, 두 집단의 회귀식이 서로 평행."
   ]
  }
 ],
 "metadata": {
  "jupytext": {
   "cell_metadata_filter": "tags,echo,name,-all",
   "main_language": "R",
   "notebook_metadata_filter": "-all"
  },
  "kernelspec": {
   "display_name": "Python 3",
   "language": "python",
   "name": "python3"
  },
  "language_info": {
   "codemirror_mode": {
    "name": "ipython",
    "version": 3
   },
   "file_extension": ".py",
   "mimetype": "text/x-python",
   "name": "python",
   "nbconvert_exporter": "python",
   "pygments_lexer": "ipython3",
   "version": "3.7.9"
  }
 },
 "nbformat": 4,
 "nbformat_minor": 4
}
