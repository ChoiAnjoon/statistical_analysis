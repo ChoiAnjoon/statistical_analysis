{
 "cells": [
  {
   "cell_type": "markdown",
   "metadata": {
    "slideshow": {
     "slide_type": "slide"
    }
   },
   "source": [
    "\n",
    "# <font color=navy> Lecture 2. 확률, 확률변수, 확률분포 </font>\n",
    "\n",
    "## 2.1 왜 확률? \n",
    "\n",
    "#### 불확실성의 분석을 근거로 한 경영 의사 결정\n",
    "- 만약 제품의 가격을 내리면 매출이 감소될 가능성이 얼마나 될까?\n",
    "- 새로운 조립방법이 생산성을 향상시킬 가능성이 얼마나 될까?\n",
    "- 프로젝트가 제 시간에 끝날 가능성이 얼마나 될까?\n",
    "- 새로운 투자가 수익을 낼 가능성이 얼마나 될까?"
   ]
  },
  {
   "cell_type": "markdown",
   "metadata": {
    "slideshow": {
     "slide_type": "slide"
    }
   },
   "source": [
    "#### 표본 추출 과정을 통해 생성된 데이터\n",
    "\n",
    "<img src='http://drive.google.com/uc?export=view&id=1Te2OVBofv8bmLz-WCNOCUy-Fpk0aa8H7' width=500 /><br>"
   ]
  },
  {
   "cell_type": "markdown",
   "metadata": {
    "slideshow": {
     "slide_type": "slide"
    }
   },
   "source": [
    "## 2.2 확률이란? \n",
    "\n",
    "### 사건의 발생 가능성에 대한 척도로서의 확률\n",
    "<img src='http://drive.google.com/uc?export=view&id=1WQertSURh2I5RQgWOEcDyzVr_8w83q0D' width=400/><br>"
   ]
  },
  {
   "cell_type": "markdown",
   "metadata": {
    "slideshow": {
     "slide_type": "slide"
    }
   },
   "source": [
    "\n",
    "#### Example: 주사위 던지기\n",
    "- 주사위를 한 개 던지는 확률실험\n",
    "    - 표본공간: $S=\\{1,2,3,4,5,6\\}$\n",
    "    - 확률: 각 표본점은 1/6의 발생가능성이 있다. \n",
    "    \n",
    "#### Example: Click rate\n",
    "- 한 웹페이지 방문자가 광고를 클릭할 확률은? \n",
    "- 무작위로 추출한 3000 방문자 중 34명이 클릭하였다.\n",
    "- 클릭확률 = 34/3000\n",
    "    - 총 클릭수를 전체 방문자 수로 나눈것 \n"
   ]
  },
  {
   "cell_type": "markdown",
   "metadata": {
    "slideshow": {
     "slide_type": "slide"
    }
   },
   "source": [
    "## 2.3 조건부 확률\n",
    "\n",
    "웹페이지 디자인의 효과를 비교하기 위해 세 디자인의 웹페이지에 무작위로 방문자를 할당하여 아래와 같은 클릭 횟수를 얻었다. \n",
    "\n",
    "|          | Headline A | Headline B | Headline C | Total |\n",
    "|:--------:|:----------:|:----------:|:----------:|:-----:|\n",
    "|   Click  | 14         | 8          | 12         | 34    |\n",
    "| No-click | 986        | 992        | 988        | 2966  |\n",
    "|   Total  | 1000       | 1000       | 1000       | 3000  |\n",
    "\n",
    "- Headline A 페이지에서 클릭확률은? "
   ]
  },
  {
   "cell_type": "markdown",
   "metadata": {
    "slideshow": {
     "slide_type": "slide"
    }
   },
   "source": [
    "### 조건부 확률 (Conditional probability)\n",
    "$$P(A|B)=\\frac{P(A \\cap B)}{P(B)}$$\n",
    "\n",
    "- B 사건이 일어난 경우에 A가 일어날 확률 \n",
    "\n",
    "- Headline A 페이지에서 클릭확률은? \n",
    "$$P(\\mbox{Click|A})=14/1000$$"
   ]
  },
  {
   "cell_type": "markdown",
   "metadata": {
    "slideshow": {
     "slide_type": "slide"
    }
   },
   "source": [
    "#### Example: 생산공정의 불량율\n",
    "한 제품을 생산하는 공정은 네 개의 생산라인이 있는데 각 생산라인별 생산비율과 불량율은 아래와 같다. \n",
    "\n",
    "| 생산라인 | A    | B   | C   | D   |\n",
    "| :-------: | :----: | :-----: | :----: |:----: |\n",
    "| 생산비율 | 20%       | 40%       | 30%       |    10% |\n",
    "| 불량율 |   0.04  |   0.02  | 0.01 | 0.05| \n",
    "\n",
    "- 한 제품을 무작위 추출했을 때 생산라인 A에서 생산된 제품일 확률?\n",
    "- 생산라인 A에서 한 제품을 무작위 추출했을 때 불량품일 확률?\n",
    "- 한 제품을 무작위 추출했을 때  불량품일 확률? \n",
    "- 한 제품을 무작위 추출했을 때 생산라인 A에서 생산된 불량품일 확률?"
   ]
  },
  {
   "cell_type": "markdown",
   "metadata": {
    "slideshow": {
     "slide_type": "slide"
    }
   },
   "source": [
    "## 2.4 독립사건 \n",
    "- $P(A|B)=P(A)$ 혹은 $P(B|A)=P(B)$인 경우 두 사건은 서로 독립이다. \n",
    "- $P(A \\cap B)=P(A)P(B)$라고도 표현 가능 \n",
    "- 두 사건이 독립이라면 A사건의 발생여부가 B사건 발생 확률에 영향을 주지 않는다."
   ]
  },
  {
   "cell_type": "markdown",
   "metadata": {
    "slideshow": {
     "slide_type": "slide"
    }
   },
   "source": [
    "#### Example: 엔진불량 리스크\t\n",
    "- 대형 항공사 위험관리 책임자\n",
    "- 제트기 엔진이 고장 날 확률은 10만분의 1\n",
    "- 제트기는 대서양을 횡단할 때 최소한 두개의 엔진 장착\n",
    "- 두 개의 엔진이 대서양 상공에서 멈출 확률은 $\\left( \\frac 1 {100,000}\\right)^2$ ?"
   ]
  },
  {
   "cell_type": "markdown",
   "metadata": {
    "slideshow": {
     "slide_type": "slide"
    }
   },
   "source": [
    "#### Example: 유아돌연사증후군 (SIDS)\t\n",
    "- 한 가족의 세명의 아이가 SIDS로 사망  \n",
    "- 자연사 vs. 살해?\n",
    "- Meadow’s Law\n",
    "    - 한 명의 유아가 사망하는 것은 비극이고, 두 명의 유아가 사망하는 것은 의심할 만한 일이며, 세 명의 유아가 사망하는 것은 살인\n",
    "    - 유아 돌연사의 확률은 7300만분의 1\n",
    "    "
   ]
  },
  {
   "cell_type": "markdown",
   "metadata": {
    "slideshow": {
     "slide_type": "slide"
    }
   },
   "source": [
    "## 2.5 확률변수와 확률분포함수\n",
    "### 2.5.1 확률변수 \n",
    "- 특정 확률로 발생하는 각각의 결과를 수치적 값으로 표현하는 변수 \n",
    "\n",
    "#### Example:  확률변수 X (or Y, or…)\n",
    "-    X = 동전을 두 번 던졌을 때 앞면의 개수      \n",
    "-     Q = 1000명의 웹사이트 방문자 중 클릭한 방문자의 수 \n",
    "-    Y = 무작위로 선정된 고객의 월평균 구매금액"
   ]
  },
  {
   "cell_type": "markdown",
   "metadata": {
    "slideshow": {
     "slide_type": "slide"
    }
   },
   "source": [
    "### 2.5.2 확률밀도(질량)함수 \n",
    "- 확률변수에 의해 정의된 수치를 확률에 대응시키는 함수 \n",
    "\n",
    "#### Example: 동전 두 번 던지기\n",
    "X=앞면의 개수 \n",
    "\n",
    "| x      | 0   | 1   | 2   |\n",
    "|--------|-----|-----|-----|\n",
    "| P(X=x) | 1/4 | 2/4 | 1/4 |\n",
    "\n",
    "\n",
    "$$f(x) = \\frac{2}{x!(2-x)!} \\left( {\\frac 1 2}\\right)^2$$"
   ]
  },
  {
   "cell_type": "markdown",
   "metadata": {
    "slideshow": {
     "slide_type": "slide"
    }
   },
   "source": [
    "#### 이산형 확률변수 vs. 연속형 확률변수 \n",
    "- 이산형 확률변수 \n",
    "    - 확률변수가 가질 수 있는 값이 유한개 이거나 셀 수 있는 경우 \n",
    "    - Example: 동전을 던질 때 앞면의 개수, 1000명 중 클릭한 방문자의 수 \n",
    "    - 확률질량함수로 확률분포를 표현\n",
    "- 연속형 확률변수 \n",
    "    - 확률변수가 가질 수 있는 값이 어떤 구간의 모든 점인 경우 \n",
    "    - Example: 무작위로 선정된 고객의 월평균 구매금액, 무작위 추출된 학생의 수면시간\n",
    "    - 확률밀도함수로 확률분포를 표현 \n",
    "        - 특정 값에 대한 확률은 0\n",
    "        - 특정 구간에 대한 확률에 관심\n",
    "    "
   ]
  },
  {
   "cell_type": "markdown",
   "metadata": {
    "slideshow": {
     "slide_type": "slide"
    }
   },
   "source": [
    "    \n",
    "### 2.5.3 이항분포(Binomial distribution)\n",
    "대표적인 이산형 확률변수 \n",
    "$$ Bin(n,p)$$\n",
    "#### 이항실험의 네 가지 속성\n",
    "1. 실험은 n개의 연속된 동일한 시행으로 구성된다. (n이 사전에 정해진다)    \n",
    "2. 각 시행에서 두 개의 결과가 가능하다. (성공/실패)\n",
    "3. 성공 확률을 p로 표시하는데 이 확률은 시행에 따라 변하지 않는다    \n",
    "4. 각 시행은 독립적이다."
   ]
  },
  {
   "cell_type": "markdown",
   "metadata": {
    "slideshow": {
     "slide_type": "slide"
    }
   },
   "source": [
    "#### 이항 확률질량함수\n",
    "\n",
    "$$ f(x)=\\frac{n!}{x!(n-x)!} p^x (1-p)^{n-x},~x=0,1,\\ldots, n$$\n",
    "- $f(x)$: n회 시행 중 x회 성공 확률\n",
    "- p: 하나의 시행에서 성공 확률\n"
   ]
  },
  {
   "cell_type": "markdown",
   "metadata": {
    "slideshow": {
     "slide_type": "slide"
    }
   },
   "source": [
    "#### Example: 동전던지기\n",
    "- 앞면이 나올 확률이 p인 동전을 n번 던질 때 앞면의 개수를 확률변수 X로 정의하자.\n",
    "- 이항확률분포의 4가지 속성을 만족하는가?"
   ]
  },
  {
   "cell_type": "code",
   "execution_count": 1,
   "metadata": {
    "scrolled": true,
    "slideshow": {
     "slide_type": "fragment"
    }
   },
   "outputs": [
    {
     "data": {
      "text/plain": [
       "<matplotlib.collections.LineCollection at 0x7fa0d7736220>"
      ]
     },
     "execution_count": 1,
     "metadata": {},
     "output_type": "execute_result"
    },
    {
     "data": {
      "image/png": "[encoded data removed]",
      "text/plain": [
       "<Figure size 432x288 with 1 Axes>"
      ]
     },
     "metadata": {
      "needs_background": "light"
     },
     "output_type": "display_data"
    }
   ],
   "source": [
    "from scipy.stats import binom\n",
    "import matplotlib.pyplot as plt\n",
    "import numpy as np \n",
    "%matplotlib inline\n",
    "\n",
    "n=20\n",
    "p=0.3\n",
    "\n",
    "# 확률질량함수\n",
    "rv = binom(n, p)\n",
    "fig, ax = plt.subplots(1, 1)\n",
    "x = np.arange(0,n+1)\n",
    "ax.plot(x, binom.pmf(x, n, p), 'bo', ms=8)\n",
    "ax.vlines(x, 0, binom.pmf(x, n, p), colors='b', lw=5, alpha=0.5)"
   ]
  },
  {
   "cell_type": "code",
   "execution_count": 2,
   "metadata": {
    "collapse": true,
    "lines_to_next_cell": 0,
    "slideshow": {
     "slide_type": "slide"
    }
   },
   "outputs": [
    {
     "data": {
      "text/plain": [
       "(array([  9.,  27., 218., 173., 213., 262.,  60.,  35.,   2.,   1.]),\n",
       " array([ 0. ,  1.4,  2.8,  4.2,  5.6,  7. ,  8.4,  9.8, 11.2, 12.6, 14. ]),\n",
       " <BarContainer object of 10 artists>)"
      ]
     },
     "execution_count": 2,
     "metadata": {},
     "output_type": "execute_result"
    },
    {
     "data": {
      "image/png": "[encoded data removed]",
      "text/plain": [
       "<Figure size 432x288 with 1 Axes>"
      ]
     },
     "metadata": {
      "needs_background": "light"
     },
     "output_type": "display_data"
    }
   ],
   "source": [
    "# random samples and histogram\n",
    "r = binom.rvs(n, p, size=1000)\n",
    "plt.hist(r)"
   ]
  },
  {
   "cell_type": "code",
   "execution_count": 3,
   "metadata": {
    "collapse": true,
    "fig.height": 3,
    "slideshow": {
     "slide_type": "slide"
    }
   },
   "outputs": [
    {
     "name": "stdout",
     "output_type": "stream",
     "text": [
      "mean: 6.0, var: 4.2\n"
     ]
    }
   ],
   "source": [
    "# mean and variance\n",
    "mean, var = binom.stats(n, p, moments='mv')\n",
    "print('mean: %.1f, var: %.1f' %(mean,var))"
   ]
  },
  {
   "cell_type": "markdown",
   "metadata": {
    "slideshow": {
     "slide_type": "fragment"
    }
   },
   "source": [
    "#### 이항분포의 성질\n",
    "$$\\mbox{기대값: }E(X)=np$$\n",
    "$$\\mbox{분산: }Var(X)= \\sigma^2 = np(1-p)$$"
   ]
  },
  {
   "cell_type": "markdown",
   "metadata": {
    "slideshow": {
     "slide_type": "slide"
    }
   },
   "source": [
    "#### Example: Evans Electronics\n",
    "- Evans회사는 근로자들에 대한 낮은 근속율을  걱정하고 있다.  최근, 경영진은 시간제 근로자  중 연간 10%가 이동한 것으로 알고 있다. \n",
    "     그래서, 경영진은 무작위로 선정한 시간제 근로자에 대하여,  그 근로자가 내년에 회사에서 일하지 않을 확률이  0.1 이라고  추정하였다. 시간제 근로자 3명을 무작위로 뽑을 경우, 그 중에 한 명이 금년에 회사를 떠날 확률이 얼마인가?"
   ]
  },
  {
   "cell_type": "code",
   "execution_count": 8,
   "metadata": {
    "slideshow": {
     "slide_type": "fragment"
    }
   },
   "outputs": [
    {
     "data": {
      "text/plain": [
       "0.243"
      ]
     },
     "execution_count": 8,
     "metadata": {},
     "output_type": "execute_result"
    }
   ],
   "source": [
    "binom.pmf(1, 3, 0.1)"
   ]
  },
  {
   "cell_type": "markdown",
   "metadata": {
    "slideshow": {
     "slide_type": "fragment"
    }
   },
   "source": [
    "- 시간제 근로자 3명을 무작위로 뽑을 경우 금년에 회사를 떠날 근로자는 그 중 몇명으로 기대할 수 있는가?\n",
    "    "
   ]
  },
  {
   "cell_type": "markdown",
   "metadata": {
    "slideshow": {
     "slide_type": "slide"
    }
   },
   "source": [
    "\n",
    "### 2.5.2  정규확률분포(normal probability distribution)\n",
    "- 정규확률분포는 연속확률분포를 기술하는 가장 중요한 분포로 통계적 추론에 폭넓게 사용\n",
    "- 사람들의 키, 과학적 측정, 시험점수, 강수량 등 다양한 분야에 폭넓게 쓰임\n",
    "$$ N(\\mu, \\sigma^2)$$\n",
    "\n",
    "#### 정규분포의 특징 \n",
    "- 대칭 분포(종형 분포)\n",
    "<img src='http://drive.google.com/uc?export=view&id=1cxuRrhAD_AJ1q-SFd8-e_uavKb9cmqHh' width=400/><br>"
   ]
  },
  {
   "cell_type": "markdown",
   "metadata": {
    "slideshow": {
     "slide_type": "slide"
    }
   },
   "source": [
    "- 모든 정규확률분포는 평균 $\\mu$ 와 분산 $\\sigma^2$ 에  의해 \n",
    "  정의될 수 있다.\n",
    "  <img src='http://drive.google.com/uc?export=view&id=1YlOV5pkKD5atkcCIVUkRv9K4kOxVyxq4' width=400/><br>"
   ]
  },
  {
   "cell_type": "markdown",
   "metadata": {
    "slideshow": {
     "slide_type": "slide"
    }
   },
   "source": [
    "- 평균은 어떤 수치(음수, 0 , 양수)라도 될 수 있다.\n",
    "<img src='http://drive.google.com/uc?export=view&id=1rvuI0D_Dj4r9CwK7xDvZQ7Kwo5bJ1Hjw' width=400/><br>"
   ]
  },
  {
   "cell_type": "markdown",
   "metadata": {
    "slideshow": {
     "slide_type": "slide"
    }
   },
   "source": [
    "- 표준 편차는 곡선의 너비를 결정한다: 표준편차가 클수록 곡선은 넓어지고 평평해진다.\n",
    "<img src='http://drive.google.com/uc?export=view&id=1xXvWikPzy-kSXvlso9YunvvOJD9aVbQM' width=400 /><br>\n"
   ]
  },
  {
   "cell_type": "markdown",
   "metadata": {
    "lines_to_next_cell": 0,
    "slideshow": {
     "slide_type": "slide"
    }
   },
   "source": [
    "#### 정규확률밀도함수 \n",
    "$$ f(x)= \\frac {1}{\\sigma\\sqrt{2\\pi}} e^{- (x-\\mu)^2 /2\\sigma^2 }$$\n",
    "\n",
    "- $\\mu$: 평균\n",
    "- $\\sigma$: 표준편차\n",
    "\n",
    "<img src=\"https://upload.wikimedia.org/wikipedia/commons/thumb/7/74/Normal_Distribution_PDF.svg/440px-Normal_Distribution_PDF.svg.png\" width=400>\n"
   ]
  },
  {
   "cell_type": "code",
   "execution_count": 4,
   "metadata": {
    "collapse": true,
    "fig.height": 5,
    "lines_to_next_cell": 2,
    "slideshow": {
     "slide_type": "slide"
    }
   },
   "outputs": [
    {
     "data": {
      "image/png": "[encoded data removed]",
      "text/plain": [
       "<Figure size 432x288 with 1 Axes>"
      ]
     },
     "metadata": {
      "needs_background": "light"
     },
     "output_type": "display_data"
    }
   ],
   "source": [
    "from scipy.stats import norm\n",
    "import matplotlib.pyplot as plt\n",
    "fig, ax = plt.subplots(1, 1)\n",
    "x = np.linspace(norm.ppf(0.01),\n",
    "                norm.ppf(0.99), 100)\n",
    "ax.plot(x, norm.pdf(x),\n",
    "       'r-', lw=5, alpha=0.6, label='norm pdf')\n",
    "r = norm.rvs(size=1000)\n",
    "ax.hist(r, density=True, histtype='stepfilled', alpha=0.2)\n",
    "ax.legend(loc='best', frameon=False)\n",
    "plt.show()"
   ]
  },
  {
   "cell_type": "markdown",
   "metadata": {
    "slideshow": {
     "slide_type": "slide"
    }
   },
   "source": [
    "#### Example: Pep Zone\n",
    "- Pep Zone은 여러 등급의 유명한 자동차 오일을 포함하여 자동차 부품이나 용품을 판매한다. 이 오일의 재고가 20 gallons 이하로 떨어질 경우, 보충 주문을 한다.\n",
    "-    관리자는 주문을 기다리는 동안 재고가 떨어져   판매를 못할 경우를 걱정하고 있다.\n",
    "오일 주문에서 보충될 때 까지 판매에 필요한 양의 분포는평균 15 gallons과\t표준편차 6 gallons이다. 관리자는 재고가 바닥날 확률, 즉 P(x > 20)에 대하여 알고 싶어 한다. \n",
    "<img src='http://drive.google.com/uc?export=view&id=1RJ396ef_IUnEk4irmsBexyDYoOkNdHN7' width=400/><br>"
   ]
  },
  {
   "cell_type": "code",
   "execution_count": 6,
   "metadata": {
    "slideshow": {
     "slide_type": "fragment"
    }
   },
   "outputs": [
    {
     "data": {
      "text/plain": [
       "0.20232838096364314"
      ]
     },
     "execution_count": 6,
     "metadata": {},
     "output_type": "execute_result"
    }
   ],
   "source": [
    "1-norm.cdf(20, 15, 6)"
   ]
  },
  {
   "cell_type": "markdown",
   "metadata": {
    "lines_to_next_cell": 0,
    "slideshow": {
     "slide_type": "slide"
    }
   },
   "source": [
    "-  만약 Pep Zone의 관리자가 재고가 바닥날 확률을 .05정도로 하고 싶어 하면, 주문 시점의 재고량(Reorder  Point)을 얼마로 하면 되겠는가?\n"
   ]
  },
  {
   "cell_type": "code",
   "execution_count": 7,
   "metadata": {
    "collapse": true,
    "fig.height": 5,
    "slideshow": {
     "slide_type": "fragment"
    }
   },
   "outputs": [
    {
     "data": {
      "text/plain": [
       "24.869121761708833"
      ]
     },
     "execution_count": 7,
     "metadata": {},
     "output_type": "execute_result"
    }
   ],
   "source": [
    "norm.ppf(0.95, 15, 6)"
   ]
  }
 ],
 "metadata": {
  "celltoolbar": "Slideshow",
  "jupytext": {
   "cell_metadata_filter": "out.width,fig.height,collapse,name,echo,tags,-all",
   "main_language": "R",
   "notebook_metadata_filter": "-all"
  },
  "kernelspec": {
   "display_name": "Python 3",
   "language": "python",
   "name": "python3"
  },
  "language_info": {
   "codemirror_mode": {
    "name": "ipython",
    "version": 3
   },
   "file_extension": ".py",
   "mimetype": "text/x-python",
   "name": "python",
   "nbconvert_exporter": "python",
   "pygments_lexer": "ipython3",
   "version": "3.7.9"
  }
 },
 "nbformat": 4,
 "nbformat_minor": 4
}
