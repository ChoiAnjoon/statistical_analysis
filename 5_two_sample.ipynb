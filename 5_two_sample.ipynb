{
 "cells": [
  {
   "cell_type": "markdown",
   "metadata": {
    "slideshow": {
     "slide_type": "slide"
    }
   },
   "source": [
    "\n",
    "# <font color=navy> Lecture 5. 두 모집단의 비교 </font>"
   ]
  },
  {
   "cell_type": "markdown",
   "metadata": {
    "slideshow": {
     "slide_type": "fragment"
    }
   },
   "source": [
    "## 5.1 A/B Test \n",
    "### 5.1.1 A/B test란? \n",
    "- 서로 다른 두 방법 간의 효과 차이를 밝히기 위한 통계적 디자인 패턴 \n",
    "- <font color=green>임의로 나눈 두 집단</font>에 대해 서로 다른 방법을 적용하고 어떤 집단이 더 높은 성과를 보이는지 통계적으로 판단 \n",
    "\n",
    "#### Example: 신약 테스트\n",
    "제약회사는 A 신약과 B 신약의 효능에 어떤 차이가 있는지 궁금하다. 회사는 환자 그룹 중 일정 비율을 대상으로 A 신약을, 나머지 환자를 대상으로 B 신약을 테스트할 것이다. 테스트 후 효능을 측정하여 어느 약이 더 나은지 판단한다. "
   ]
  },
  {
   "cell_type": "markdown",
   "metadata": {
    "slideshow": {
     "slide_type": "slide"
    }
   },
   "source": [
    "#### Example: 웹사이트 전환율\n",
    "프론트엔드 웹 개발자는 어느 웹사이트 디자인이 더 많은 전환율(conversion rate)을 내는지 알고 싶어한다. 웹 개발자는 방문객의 일부는 A사이트로 이동시키고, 나머지 방문객은 B사이트로 이동시킬 것이다. 그리고 방문객이 행동을 전환(회원가입/구매 등)하는지 여부를 기록한다. 이러한 배치와 전환율을 기록하여 이후에 어느 디자인이 효율적인지 판단한다. \n",
    "<img src=\"https://i0.wp.com/farm9.staticflickr.com/8734/17770510261_c223ccefe0_n.jpg?zoom=2&resize=320%2C252&ssl=1\" width=400>"
   ]
  },
  {
   "cell_type": "markdown",
   "metadata": {
    "slideshow": {
     "slide_type": "slide"
    }
   },
   "source": [
    "### 5.1.2 왜 A/B test?: 상관관계 vs. 인과관계 \n",
    "#### Example: 아이스크림과 물놀이\n",
    "한 지자체에서 물놀이 사고를 줄이는 것을 목표로 하고 있다. 조사 결과 아이스크림 판매량과 물놀이 사고 빈도 간의 상관관계가 높음을 알 수 있었다. 즉, 아이스크림 판매량이 증가하면 물놀이 사고가 증가하는 것이 데이터로부터 파악되었다. 따라서, 물놀이 사고를 줄이기 위해 아이스크림 가격을 올려 판매량을 줄이는 정책을 입안하였다!? \n",
    "- 아이스크림 판매량의 증가가 물놀이 사고 증가의 원인인가? (즉, 인과관계가 성립하는가?) \n",
    "- 아이스크림 판매량과 물놀이 사고 빈도에 동시에 영향을 주는 요인이 존재하기 때문에 두 변수 간의 상관관계가 관측되는 것\n",
    "<img src='http://drive.google.com/uc?export=view&id=1vtvPmZRUQ3RFIyIU8dGP2UGBlWetx6Wa' width=300 /><br>"
   ]
  },
  {
   "cell_type": "markdown",
   "metadata": {
    "slideshow": {
     "slide_type": "slide"
    }
   },
   "source": [
    "#### Example: 웹사이트 디자인과 매출 \n",
    "어떤 쇼핑몰 웹 사이트가 있다. 3개월에 걸쳐 디자인 개편 프로젝트를 진행하였고 지난주에 성공적으로 새 디자인을 적용하였다. 그랬더니 갑자기 그 전에 비해 일 매출이 10% 증가했다. 매출 증가는 웹사이트 디자인 개편 덕분이다? \n",
    "- 새 디자인이 적용된 날 경쟁 쇼핑몰이 문을 닫았다면?\n",
    "- 새 디자인이 적용된 날 경쟁력 있는 상품이 입고되었다면?\n",
    "- 갑자기 경기가 좋아졌다면? "
   ]
  },
  {
   "cell_type": "markdown",
   "metadata": {
    "slideshow": {
     "slide_type": "slide"
    }
   },
   "source": [
    "#### A/B Test와 인과관계 \n",
    "새 디자인을 적용하기 전의 매출과 새 디자인을 적용한 후의 매출을 비교하는 대신, **임의적으로 나눈** A 집단과 B 집단의 매출을 비교하면 시간의 흐름에 따라 발생하는 다른 요인들(경쟁 쇼핑몰 부도, 신상품 입고, 경기 변동 등)이 통제 가능하여 순수하게 디자인 변화로 인한 매출 차이만을 가려낼 수 있다.\n",
    "- A 집단과 B 집단은 성별, 소득수준, 방문시간대 등 매출에 영향을 주는 다른 요인들이 골고루 분포하게끔 **임의적으로** 나누는 것이 중요 "
   ]
  },
  {
   "cell_type": "markdown",
   "metadata": {
    "lines_to_next_cell": 0,
    "slideshow": {
     "slide_type": "slide"
    }
   },
   "source": [
    "## 5.2 모평균 차이에 대한 추론\n",
    "\n",
    "- 비교하고자 하는 값이 수치형 변수이면(매출액, 체류시간 등)일 때 사용\n",
    "\n",
    "\n",
    "### Example: Session time\n",
    "A 또는 B 웹사이트 디자인 중에서 어느 디자인에서 방문자가 머무르는 시간이 긴가? \n",
    "\n"
   ]
  },
  {
   "cell_type": "code",
   "execution_count": 17,
   "metadata": {
    "collapse": false,
    "fig.height": 6,
    "lines_to_next_cell": 0,
    "slideshow": {
     "slide_type": "skip"
    },
    "warning": false
   },
   "outputs": [],
   "source": [
    "import numpy as np\n",
    "import scipy.stats as stats\n",
    "from IPython.core.pylabtools import figsize\n",
    "import matplotlib.pyplot as plt\n",
    "import matplotlib\n",
    "import datetime\n",
    "import collections\n",
    "import pandas as pd\n",
    "import pymc3 as pm\n",
    "import theano.tensor as tt\n",
    "import warnings\n",
    "warnings.filterwarnings(\"ignore\")\n",
    "%matplotlib inline\n",
    "data_path = \"../data/\""
   ]
  },
  {
   "cell_type": "code",
   "execution_count": 3,
   "metadata": {
    "slideshow": {
     "slide_type": "slide"
    }
   },
   "outputs": [
    {
     "data": {
      "text/html": [
       "<div>\n",
       "<style scoped>\n",
       "    .dataframe tbody tr th:only-of-type {\n",
       "        vertical-align: middle;\n",
       "    }\n",
       "\n",
       "    .dataframe tbody tr th {\n",
       "        vertical-align: top;\n",
       "    }\n",
       "\n",
       "    .dataframe thead th {\n",
       "        text-align: right;\n",
       "    }\n",
       "</style>\n",
       "<table border=\"1\" class=\"dataframe\">\n",
       "  <thead>\n",
       "    <tr style=\"text-align: right;\">\n",
       "      <th></th>\n",
       "      <th>Page</th>\n",
       "      <th>Time</th>\n",
       "    </tr>\n",
       "  </thead>\n",
       "  <tbody>\n",
       "    <tr>\n",
       "      <th>0</th>\n",
       "      <td>Page A</td>\n",
       "      <td>21.0</td>\n",
       "    </tr>\n",
       "    <tr>\n",
       "      <th>1</th>\n",
       "      <td>Page B</td>\n",
       "      <td>253.0</td>\n",
       "    </tr>\n",
       "    <tr>\n",
       "      <th>2</th>\n",
       "      <td>Page A</td>\n",
       "      <td>35.0</td>\n",
       "    </tr>\n",
       "    <tr>\n",
       "      <th>3</th>\n",
       "      <td>Page B</td>\n",
       "      <td>71.0</td>\n",
       "    </tr>\n",
       "    <tr>\n",
       "      <th>4</th>\n",
       "      <td>Page A</td>\n",
       "      <td>67.0</td>\n",
       "    </tr>\n",
       "  </tbody>\n",
       "</table>\n",
       "</div>"
      ],
      "text/plain": [
       "     Page   Time\n",
       "0  Page A   21.0\n",
       "1  Page B  253.0\n",
       "2  Page A   35.0\n",
       "3  Page B   71.0\n",
       "4  Page A   67.0"
      ]
     },
     "execution_count": 3,
     "metadata": {},
     "output_type": "execute_result"
    }
   ],
   "source": [
    "session_times = pd.read_csv(data_path + \"web_page_data.csv\")\n",
    "session_times.Time = 100 * session_times.Time\n",
    "\n",
    "session_times.head()"
   ]
  },
  {
   "cell_type": "code",
   "execution_count": 4,
   "metadata": {
    "slideshow": {
     "slide_type": "fragment"
    }
   },
   "outputs": [
    {
     "data": {
      "text/html": [
       "<div>\n",
       "<style scoped>\n",
       "    .dataframe tbody tr th:only-of-type {\n",
       "        vertical-align: middle;\n",
       "    }\n",
       "\n",
       "    .dataframe tbody tr th {\n",
       "        vertical-align: top;\n",
       "    }\n",
       "\n",
       "    .dataframe thead tr th {\n",
       "        text-align: left;\n",
       "    }\n",
       "\n",
       "    .dataframe thead tr:last-of-type th {\n",
       "        text-align: right;\n",
       "    }\n",
       "</style>\n",
       "<table border=\"1\" class=\"dataframe\">\n",
       "  <thead>\n",
       "    <tr>\n",
       "      <th></th>\n",
       "      <th colspan=\"8\" halign=\"left\">Time</th>\n",
       "    </tr>\n",
       "    <tr>\n",
       "      <th></th>\n",
       "      <th>count</th>\n",
       "      <th>mean</th>\n",
       "      <th>std</th>\n",
       "      <th>min</th>\n",
       "      <th>25%</th>\n",
       "      <th>50%</th>\n",
       "      <th>75%</th>\n",
       "      <th>max</th>\n",
       "    </tr>\n",
       "    <tr>\n",
       "      <th>Page</th>\n",
       "      <th></th>\n",
       "      <th></th>\n",
       "      <th></th>\n",
       "      <th></th>\n",
       "      <th></th>\n",
       "      <th></th>\n",
       "      <th></th>\n",
       "      <th></th>\n",
       "    </tr>\n",
       "  </thead>\n",
       "  <tbody>\n",
       "    <tr>\n",
       "      <th>Page A</th>\n",
       "      <td>21.0</td>\n",
       "      <td>126.333333</td>\n",
       "      <td>88.463175</td>\n",
       "      <td>21.0</td>\n",
       "      <td>67.0</td>\n",
       "      <td>95.0</td>\n",
       "      <td>173.0</td>\n",
       "      <td>342.0</td>\n",
       "    </tr>\n",
       "    <tr>\n",
       "      <th>Page B</th>\n",
       "      <td>15.0</td>\n",
       "      <td>162.000000</td>\n",
       "      <td>101.136400</td>\n",
       "      <td>43.0</td>\n",
       "      <td>80.0</td>\n",
       "      <td>147.0</td>\n",
       "      <td>234.5</td>\n",
       "      <td>357.0</td>\n",
       "    </tr>\n",
       "  </tbody>\n",
       "</table>\n",
       "</div>"
      ],
      "text/plain": [
       "        Time                                                         \n",
       "       count        mean         std   min   25%    50%    75%    max\n",
       "Page                                                                 \n",
       "Page A  21.0  126.333333   88.463175  21.0  67.0   95.0  173.0  342.0\n",
       "Page B  15.0  162.000000  101.136400  43.0  80.0  147.0  234.5  357.0"
      ]
     },
     "execution_count": 4,
     "metadata": {},
     "output_type": "execute_result"
    }
   ],
   "source": [
    "session_times.groupby(\"Page\").describe()"
   ]
  },
  {
   "cell_type": "markdown",
   "metadata": {
    "lines_to_next_cell": 0,
    "slideshow": {
     "slide_type": "slide"
    }
   },
   "source": [
    "### 5.2.1 두 집단 평균 차이의 추정\n",
    "\n",
    "- 관심이 되는 모수: $\\mu_1 - \\mu_2$\n",
    "\n",
    "    - $\\mu_1$: Page A에서 평균 체류시간\n",
    "    - $\\mu_2$: Page B에서 평균 체류시간\n",
    "\n",
    "- $\\mu_1 - \\mu_2$의 점추정 \n",
    "    $${\\hat \\mu_1 - \\hat \\mu_2} =\\bar x_1 - \\bar x_2 $$"
   ]
  },
  {
   "cell_type": "markdown",
   "metadata": {
    "lines_to_next_cell": 0,
    "slideshow": {
     "slide_type": "slide"
    }
   },
   "source": [
    "### 5.2.2 두 집단 평균 차이에 대한 검정 (Two-sample t-test)\n",
    "\n",
    "1. 가설 설정\n",
    "    - $H_0$:\n",
    "    - $H_a$:\n",
    "    \n",
    "    <br>\n",
    "2. 가정 체크\n",
    "\n",
    "    - 두 집단 모두 정규분포를 따른다. \n",
    "    - 정규분포를 따르지 않더라도 관측치 수가 충분히 많다면 $(n_1+n_2>30)$ 일반적으로 \n",
    "    two-sample t-test를 사용할 수 있다. \n"
   ]
  },
  {
   "cell_type": "code",
   "execution_count": 18,
   "metadata": {
    "slideshow": {
     "slide_type": "slide"
    }
   },
   "outputs": [
    {
     "data": {
      "image/png": "[encoded data removed]",
      "text/plain": [
       "<Figure size 432x288 with 1 Axes>"
      ]
     },
     "metadata": {
      "needs_background": "light"
     },
     "output_type": "display_data"
    }
   ],
   "source": [
    "session_times.boxplot(by=\"Page\")\n",
    "plt.show()"
   ]
  },
  {
   "cell_type": "markdown",
   "metadata": {
    "slideshow": {
     "slide_type": "fragment"
    }
   },
   "source": [
    "- 두 집단의 분포가 대략 대칭임 "
   ]
  },
  {
   "cell_type": "markdown",
   "metadata": {
    "slideshow": {
     "slide_type": "slide"
    }
   },
   "source": [
    "3\\. 검정통계량 계산 \n",
    "\n",
    "$$ T=\\frac{\\bar x_1 - \\bar x_2 }{\\sqrt {var(\\bar x_1 - \\bar x_2)}}$$ \n",
    "$$var(\\bar x_1 - \\bar x_2) = \\frac {\\sigma_1^2} {n_1} +\\frac {\\sigma_2^2} {n_2}  $$\n",
    "\n",
    "- $\\frac {\\sigma_1^2}{n_1} +\\frac {\\sigma_2^2}{n_2}$을 어떻게 추정할 것인가?\n",
    "\n",
    "    - 두 집단의 분산이 같다는 정보가 있으면 $\\sigma_1^2=\\sigma_2^2$로 놓고 추정\n",
    "        - `stats.ttest_ind(..., equal_var=True)`\n",
    "    - 두 집단의 분산이 다르다는 정보가 있으면 각각 추정\n",
    "        - `stats.ttest_ind(..., equal_var=False)`\n"
   ]
  },
  {
   "cell_type": "markdown",
   "metadata": {
    "slideshow": {
     "slide_type": "slide"
    }
   },
   "source": [
    "##### 등분산 검정: Bartlett's Test\n",
    "$$ H_0: \\sigma_1^2 = \\sigma_2^2 $$\n",
    "$$H_a: \\sigma_1^2 \\neq \\sigma_2^2 $$ \n"
   ]
  },
  {
   "cell_type": "code",
   "execution_count": 10,
   "metadata": {
    "slideshow": {
     "slide_type": "fragment"
    }
   },
   "outputs": [
    {
     "data": {
      "text/plain": [
       "BartlettResult(statistic=0.2901554845118482, pvalue=0.5901209093838491)"
      ]
     },
     "execution_count": 10,
     "metadata": {},
     "output_type": "execute_result"
    }
   ],
   "source": [
    "stats.bartlett(session_times[session_times.Page == 'Page A'].Time, \n",
    "                      session_times[session_times.Page == 'Page B'].Time)"
   ]
  },
  {
   "cell_type": "markdown",
   "metadata": {
    "lines_to_next_cell": 0,
    "slideshow": {
     "slide_type": "fragment"
    }
   },
   "source": [
    "- 귀무가설을 기각하지 못하므로 두 집단의 분산이 같다고 가정하고 t-test를 진행한다. "
   ]
  },
  {
   "cell_type": "markdown",
   "metadata": {
    "slideshow": {
     "slide_type": "slide"
    }
   },
   "source": [
    "4\\. p-value 계산 \n"
   ]
  },
  {
   "cell_type": "code",
   "execution_count": 11,
   "metadata": {
    "slideshow": {
     "slide_type": "fragment"
    }
   },
   "outputs": [
    {
     "name": "stdout",
     "output_type": "stream",
     "text": [
      "p-value for single sided test: 0.1345\n"
     ]
    }
   ],
   "source": [
    "res = stats.ttest_ind(session_times[session_times.Page == 'Page A'].Time, \n",
    "                      session_times[session_times.Page == 'Page B'].Time,\n",
    "                      equal_var=True)\n",
    "print(f'p-value for single sided test: {res.pvalue / 2:.4f}')"
   ]
  },
  {
   "cell_type": "markdown",
   "metadata": {
    "slideshow": {
     "slide_type": "slide"
    }
   },
   "source": [
    "5\\. 결론\n",
    "- T-test의 귀무가설을 기각하지 못한다. \n",
    "- 두 디자인의 평균 session time은 유의한 차이가 없다. "
   ]
  },
  {
   "cell_type": "markdown",
   "metadata": {
    "slideshow": {
     "slide_type": "slide"
    }
   },
   "source": [
    "### 5.2.3 쌍체표본 T-검정(paired t-test)\n",
    "\n",
    "- 쌍을 이룬 두 변수(matched sample/paired sample)의 차이를 보는 검정\n",
    "- 한 집단을 대상으로 약의 복용, 치료, 교육방법 도입등\n",
    "- 두 집단이더라도 쌍둥이 또는 부부처럼 변수들 간의 상관관계가 존재할 때 사용 \n",
    "\n",
    "#### Example \n",
    "- 10명의 비행기 조종사의 술먹기 전과 후의 특정작업에 대한 반응시간 비교\n",
    "- 30쌍의 쌍둥이의 키 비교"
   ]
  },
  {
   "cell_type": "markdown",
   "metadata": {
    "slideshow": {
     "slide_type": "slide"
    }
   },
   "source": [
    "##### 연습: Two-sample t-test  vs. paired t-test \n",
    "- 남성과 여성의 임금 차이를 조사한 코넬대학교 연구에 의하면, 남성의 임금이 여성의 임금에 비하여 높은 이유는 여성에 비해 높은 경력을 가졌기 때문인 것으로 보고되었다. 남성과 여성의 경력 차이를 비교하였다. \n",
    "\n",
    "- 최근에 소비자들의 여가시간에 대한 매체 간의 경쟁관계가 격해지고 있다. 조사자들은 15명의 개인 자료를 활용하여 주간 케이블 TV시청시간과 주간 라디오 청취시간에 대한 자료를 수집하였다.\n",
    "\n",
    "- 대학본부에서는 부모의 최종학력에 따른 응시자들의 SAT점수 차이를 비교하였다. 첫 번째 표본에서는 학부모들이 대학에서 학사학위를 취득한 집단의 SAT점수를 취하였다. 두 번째 표본에서는 부모들이 고등학교만 졸업한 집단의 SAT 점수를 취하였다."
   ]
  },
  {
   "cell_type": "markdown",
   "metadata": {
    "slideshow": {
     "slide_type": "slide"
    }
   },
   "source": [
    "#### Example 거식증치료제\n",
    "- 거식증 치료제 FT복용 전후의 체중변화를 측정하여 FT가 체중증가에 영향이 있는지 조사하고자 한다. \n",
    "    - Prewt: 복용 전 체중\n",
    "    - Postwt: 복용 후 체중"
   ]
  },
  {
   "cell_type": "code",
   "execution_count": 6,
   "metadata": {
    "collapse": false,
    "fig.height": 4,
    "lines_to_next_cell": 0,
    "slideshow": {
     "slide_type": "fragment"
    },
    "warning": false
   },
   "outputs": [
    {
     "data": {
      "text/html": [
       "<div>\n",
       "<style scoped>\n",
       "    .dataframe tbody tr th:only-of-type {\n",
       "        vertical-align: middle;\n",
       "    }\n",
       "\n",
       "    .dataframe tbody tr th {\n",
       "        vertical-align: top;\n",
       "    }\n",
       "\n",
       "    .dataframe thead th {\n",
       "        text-align: right;\n",
       "    }\n",
       "</style>\n",
       "<table border=\"1\" class=\"dataframe\">\n",
       "  <thead>\n",
       "    <tr style=\"text-align: right;\">\n",
       "      <th></th>\n",
       "      <th>Treat</th>\n",
       "      <th>Prewt</th>\n",
       "      <th>Postwt</th>\n",
       "    </tr>\n",
       "  </thead>\n",
       "  <tbody>\n",
       "    <tr>\n",
       "      <th>0</th>\n",
       "      <td>FT</td>\n",
       "      <td>83.8</td>\n",
       "      <td>95.2</td>\n",
       "    </tr>\n",
       "    <tr>\n",
       "      <th>1</th>\n",
       "      <td>FT</td>\n",
       "      <td>83.3</td>\n",
       "      <td>94.3</td>\n",
       "    </tr>\n",
       "    <tr>\n",
       "      <th>2</th>\n",
       "      <td>FT</td>\n",
       "      <td>86.0</td>\n",
       "      <td>91.5</td>\n",
       "    </tr>\n",
       "    <tr>\n",
       "      <th>3</th>\n",
       "      <td>FT</td>\n",
       "      <td>82.5</td>\n",
       "      <td>91.9</td>\n",
       "    </tr>\n",
       "    <tr>\n",
       "      <th>4</th>\n",
       "      <td>FT</td>\n",
       "      <td>86.7</td>\n",
       "      <td>100.3</td>\n",
       "    </tr>\n",
       "  </tbody>\n",
       "</table>\n",
       "</div>"
      ],
      "text/plain": [
       "  Treat  Prewt  Postwt\n",
       "0    FT   83.8    95.2\n",
       "1    FT   83.3    94.3\n",
       "2    FT   86.0    91.5\n",
       "3    FT   82.5    91.9\n",
       "4    FT   86.7   100.3"
      ]
     },
     "execution_count": 6,
     "metadata": {},
     "output_type": "execute_result"
    }
   ],
   "source": [
    "FT=pd.read_csv(\"../data/FT.csv\")\n",
    "FT.head()"
   ]
  },
  {
   "cell_type": "markdown",
   "metadata": {
    "lines_to_next_cell": 0,
    "slideshow": {
     "slide_type": "slide"
    }
   },
   "source": [
    "\n",
    "- Postwt-Prewt=0: 치료제 복용 전후의 차이가 없음\n",
    "- Postwt-Prewt $\\neq 0$: 치료제 복용 전후의 차이가 있음\n",
    "\n",
    "$\\Rightarrow$ Paired T-test = 두 변수의 차를 사용한 one sample T-test와 동일\n",
    "\n"
   ]
  },
  {
   "cell_type": "code",
   "execution_count": 7,
   "metadata": {
    "collapse": false,
    "fig.height": 4,
    "lines_to_next_cell": 0,
    "slideshow": {
     "slide_type": "fragment"
    },
    "warning": false
   },
   "outputs": [],
   "source": [
    "FT.diff= FT.Postwt-FT.Prewt "
   ]
  },
  {
   "cell_type": "markdown",
   "metadata": {
    "lines_to_next_cell": 0,
    "slideshow": {
     "slide_type": "slide"
    }
   },
   "source": [
    "1\\. 가설설정 \n",
    "- 관심모수: $\\mu_d =$ 복용 후 몸무게 - 복용 전 몸무게 \n",
    "\n",
    "- $H_0:$\n",
    "\n",
    "- $H_a:$"
   ]
  },
  {
   "cell_type": "markdown",
   "metadata": {
    "lines_to_next_cell": 0,
    "slideshow": {
     "slide_type": "fragment"
    }
   },
   "source": [
    "2\\. 가정체크\n",
    "\n",
    "- One-sample T-test 의 가정과 동일\n",
    "- Postwt-Prewt 이 정규분포를 따르는지 확인 (관측치 수가 많으면 정규분포를 따르지 않아도 ok)\n",
    "    "
   ]
  },
  {
   "cell_type": "code",
   "execution_count": 8,
   "metadata": {
    "slideshow": {
     "slide_type": "slide"
    }
   },
   "outputs": [
    {
     "data": {
      "text/plain": [
       "<matplotlib.axes._subplots.AxesSubplot at 0x12a95b690>"
      ]
     },
     "execution_count": 8,
     "metadata": {},
     "output_type": "execute_result"
    },
    {
     "data": {
      "image/png": "[encoded data removed]",
      "text/plain": [
       "<Figure size 432x288 with 1 Axes>"
      ]
     },
     "metadata": {
      "needs_background": "light"
     },
     "output_type": "display_data"
    }
   ],
   "source": [
    "FT.diff.plot.box()"
   ]
  },
  {
   "cell_type": "markdown",
   "metadata": {
    "lines_to_next_cell": 0,
    "slideshow": {
     "slide_type": "fragment"
    }
   },
   "source": [
    "- 데이터의 분포가 크게 한쪽으로 치우치지 않음 \n",
    "    \n",
    "    "
   ]
  },
  {
   "cell_type": "code",
   "execution_count": 9,
   "metadata": {
    "slideshow": {
     "slide_type": "slide"
    }
   },
   "outputs": [
    {
     "data": {
      "text/plain": [
       "ShapiroResult(statistic=0.9535844922065735, pvalue=0.5156101584434509)"
      ]
     },
     "execution_count": 9,
     "metadata": {},
     "output_type": "execute_result"
    }
   ],
   "source": [
    "stats.shapiro(FT.diff)"
   ]
  },
  {
   "cell_type": "markdown",
   "metadata": {
    "lines_to_next_cell": 0,
    "slideshow": {
     "slide_type": "fragment"
    }
   },
   "source": [
    "- p-value>0.05: 자료가 정규분포를 따르지 않는다는 유의한 증거가 없음 \n",
    "\n",
    "  "
   ]
  },
  {
   "cell_type": "markdown",
   "metadata": {
    "lines_to_next_cell": 0,
    "slideshow": {
     "slide_type": "slide"
    }
   },
   "source": [
    "\n",
    "3\\. 검정통계량, p-value  계산 "
   ]
  },
  {
   "cell_type": "code",
   "execution_count": 11,
   "metadata": {
    "collapse": false,
    "fig.height": 4,
    "lines_to_next_cell": 0,
    "slideshow": {
     "slide_type": "fragment"
    },
    "warning": false
   },
   "outputs": [
    {
     "data": {
      "text/plain": [
       "(4.184908135290033, 0.00035012655280026967, 16.0)"
      ]
     },
     "execution_count": 11,
     "metadata": {},
     "output_type": "execute_result"
    }
   ],
   "source": [
    "from statsmodels.stats import weightstats\n",
    "stat = weightstats.DescrStatsW(FT.diff)\n",
    "stat.ttest_mean(value=0, alternative=\"larger\")"
   ]
  },
  {
   "cell_type": "markdown",
   "metadata": {
    "slideshow": {
     "slide_type": "slide"
    }
   },
   "source": [
    "4\\. 결론 \n",
    "- p-value=0.00035<0.05 \n",
    "- 귀무가설을 기각\n",
    "- FT 복용 후 통계적으로 유의한 체중증가가 있다.\n"
   ]
  },
  {
   "cell_type": "markdown",
   "metadata": {
    "slideshow": {
     "slide_type": "slide"
    }
   },
   "source": [
    "## 5.3 변수변환 \n",
    "- 많은 경우의 실제 데이터에서 오른쪽으로 꼬리가 긴 분포형태를 가짐  (소득, 키, 매출액 등)\n",
    "- 여러 통계 기법들은 자료의 정규분포를 가정하므로 분석 전 변수변환이 필요한지 체크 "
   ]
  },
  {
   "cell_type": "code",
   "execution_count": 20,
   "metadata": {
    "slideshow": {
     "slide_type": "fragment"
    }
   },
   "outputs": [],
   "source": [
    "from scipy.stats import norm\n",
    "np.random.seed(0)\n",
    "x = norm.rvs(size=1000) + 5\n",
    "x = np.square(x)"
   ]
  },
  {
   "cell_type": "code",
   "execution_count": 24,
   "metadata": {
    "collapse": true,
    "fig.height": 5,
    "slideshow": {
     "slide_type": "slide"
    },
    "warning": false
   },
   "outputs": [
    {
     "data": {
      "image/png": "[encoded data removed]",
      "text/plain": [
       "<Figure size 1080x288 with 3 Axes>"
      ]
     },
     "metadata": {
      "needs_background": "light"
     },
     "output_type": "display_data"
    }
   ],
   "source": [
    "fig, ax = plt.subplots(1,3, figsize=(15,4))\n",
    "ax[0].hist(x,20)\n",
    "ax[0].set_xlabel('x')\n",
    "ax[1].hist(np.log(x),20)\n",
    "ax[1].set_xlabel('log(x)')\n",
    "ax[2].hist(np.sqrt(x),20)\n",
    "ax[2].set_xlabel('sqrt(x)')\n",
    "plt.show()"
   ]
  },
  {
   "cell_type": "markdown",
   "metadata": {
    "lines_to_next_cell": 0,
    "slideshow": {
     "slide_type": "slide"
    }
   },
   "source": [
    "### Box-Cox Transformation\n",
    "    \n",
    "- 데이터를 정규분포에 가깝게 만들어주는 지수변환의 값을 찾아준다.\n",
    "$$y(\\lambda) = \\left\\{ \\begin{matrix}\n",
    "\\frac{y^\\lambda -1}{\\lambda}, &\\rm{if } \\lambda \\neq 0 \\\\\n",
    "\\log y, & \\rm{if }\\lambda =0\n",
    "\\end{matrix}\n",
    "\\right.\n",
    "$$\n",
    "- $y=x^\\lambda$의 꼴이  정규분포에 가깝도록 $\\lambda$  결정. \n",
    "- Box-Cox transformation을 통해 결정된 $\\lambda$를 무조건 사용하기 보다는 변수변환을 위한 참고값으로 활용하는 것이 대부분의 경우 바람직하다.\n"
   ]
  },
  {
   "cell_type": "code",
   "execution_count": 19,
   "metadata": {
    "collapse": false,
    "fig.height": 5,
    "lines_to_next_cell": 0,
    "slideshow": {
     "slide_type": "fragment"
    },
    "warning": false
   },
   "outputs": [],
   "source": [
    "from scipy import stats \n",
    "fitted_x, fitted_lambda = stats.boxcox(x) "
   ]
  },
  {
   "cell_type": "code",
   "execution_count": 20,
   "metadata": {
    "slideshow": {
     "slide_type": "fragment"
    }
   },
   "outputs": [
    {
     "data": {
      "text/plain": [
       "0.4712039833290513"
      ]
     },
     "execution_count": 20,
     "metadata": {},
     "output_type": "execute_result"
    }
   ],
   "source": [
    "fitted_lambda"
   ]
  },
  {
   "cell_type": "markdown",
   "metadata": {
    "slideshow": {
     "slide_type": "slide"
    }
   },
   "source": [
    "## 5.4 모비율의 차이에 대한 추론 \n",
    "- 비교하고자 하는 값이 비율이면(CTR; Click-Through Rate, 구매율 등) **두 그룹 비율 비교 검정**을 활용\n",
    "\n",
    "\n",
    "#### Example: 전환율 \n",
    "A 또는 B 웹사이트 디자인 중에서 어느 디자인의 전환확률이 높은가?  A 사이트의 경우 1,300번 중 120번의 방문자가 전환을 했고 B 사이트의 경우 1275 중 125가 전환을 했다.\n",
    "\n",
    "```python\n",
    "visitors_to_A = 1300\n",
    "visitors_to_B = 1275\n",
    "\n",
    "conversions_from_A = 120\n",
    "conversions_from_B = 125\n",
    "```\n",
    "\n",
    "   "
   ]
  },
  {
   "cell_type": "markdown",
   "metadata": {
    "slideshow": {
     "slide_type": "slide"
    }
   },
   "source": [
    "### 5.4.1 두 집단 비율의 차이에 대한 추정\n",
    "- 관심 모수: $p_1 - p_2$\n",
    "    - $p_1$: 모집단에서의 A의 전환확률\n",
    "    - $p_2$: 모집단에서의 B의 전환확률\n",
    "\n",
    "- 추정량: $\\hat p_1 - \\hat p_2$\n",
    "    - $\\hat p_1$: 표본에서의 A의 전환확률 \n",
    "    - $\\hat p_2$: 표본에서의 B의 전환확률"
   ]
  },
  {
   "cell_type": "markdown",
   "metadata": {
    "slideshow": {
     "slide_type": "slide"
    }
   },
   "source": [
    "### 5.4.2 두 집단 비율의 차이에 대한 검정\n",
    "1\\. 가설설정\n",
    "\n",
    "- $H_0$:\n",
    "\n",
    "- $H_a$:\n",
    "\n",
    "      \n",
    " "
   ]
  },
  {
   "cell_type": "markdown",
   "metadata": {
    "slideshow": {
     "slide_type": "fragment"
    }
   },
   "source": [
    "2\\. 가정체크\n",
    "$$n_1 p_1\\geq5, n_1(1-p_1)\\geq5, n_2p_2\\geq5, n_2(1-p_1)\\geq5$$"
   ]
  },
  {
   "cell_type": "markdown",
   "metadata": {
    "slideshow": {
     "slide_type": "slide"
    }
   },
   "source": [
    "3\\. 검정통계량 \n",
    "\n",
    "$$ Z=\\frac{\\hat p_1 - \\hat p_2 }{\\sqrt{\\hat p (1-\\hat p) \\left( \\frac 1 {n_1} + \\frac 1 {n_2} \\right) }} \\sim N(0,1)$$\n",
    "\n",
    "- $\\hat p =\\frac{n_1 \\hat p_1 + n_2 \\hat p_2 }{n_1+n_2}$ : pooled estimator"
   ]
  },
  {
   "cell_type": "markdown",
   "metadata": {
    "slideshow": {
     "slide_type": "slide"
    }
   },
   "source": [
    "4\\. p-value, 결론 "
   ]
  },
  {
   "cell_type": "code",
   "execution_count": 14,
   "metadata": {
    "collapse": false,
    "fig.height": 4,
    "lines_to_next_cell": 0,
    "slideshow": {
     "slide_type": "fragment"
    },
    "warning": false
   },
   "outputs": [
    {
     "name": "stdout",
     "output_type": "stream",
     "text": [
      "Z-statistics: -0.496, p-value: 0.620\n"
     ]
    }
   ],
   "source": [
    "from statsmodels.stats import proportion\n",
    "ztest_result = proportion.proportions_ztest(count = [120,125], nobs = [1300,1275],  alternative = 'two-sided')\n",
    "\n",
    "print('Z-statistics: %.3f, p-value: %.3f' %(ztest_result))"
   ]
  },
  {
   "cell_type": "markdown",
   "metadata": {
    "slideshow": {
     "slide_type": "fragment"
    }
   },
   "source": [
    "- p-value>0.05: 유의수준 0.05 하에서 두 디자인의 전환율의 차이가 있다고 할 수 없다."
   ]
  },
  {
   "cell_type": "markdown",
   "metadata": {
    "lines_to_next_cell": 0,
    "slideshow": {
     "slide_type": "slide"
    }
   },
   "source": [
    "## 5.5 적합성 검정 (Goodness-of-Fit Test)\n",
    "#### Example: 시장점유율 \n",
    "- Scott 마케팅 조사기관이 수행한 시장 점유율에 대한 조사에서 몇 년동안 시장점유율은 A사 30%, B사 50%, C사 20% 수준을 보이며 안정적이었다. 최근에 C사는 기능이 향상된 제품을 출시하였고 신제품의 출시가 시장점유율의 변화에 영향을 미치고 있는지 파악하고자 한다. \n",
    "\n",
    "- Scott사가 200명의 고객을 소비자 패널로 활용하여 조사를 수행한 결과 아래의 표와 같은 구매선호도 결과를 얻었다. \n",
    "\n",
    "|  회사    |  A |  B |  C |\n",
    "|------|:--:|:--:|:--:|\n",
    "| 관측빈도 | 48 | 98 | 54 |"
   ]
  },
  {
   "cell_type": "markdown",
   "metadata": {
    "lines_to_next_cell": 0,
    "slideshow": {
     "slide_type": "slide"
    }
   },
   "source": [
    "#### 적합성 검정 \n",
    "- 범주형 자료에 대해 관찰값이 기대되는 값과 일치하는지 조사하는 검정\n",
    "- 각 카테고리에 속하는 자료의 비율이 기대하는 바와 일치하는지를 검정\n",
    "- 가설\n",
    "    - $H_0: p_1=p_{01},p_2=p_{02}, \\ldots, p_k=p_{0k}$\n",
    "    - $H_a:$ 적어도 하나의 카테고리에 대해 $p_i \\neq p_{0i}$\n",
    "    "
   ]
  },
  {
   "cell_type": "markdown",
   "metadata": {
    "lines_to_next_cell": 0,
    "slideshow": {
     "slide_type": "slide"
    }
   },
   "source": [
    "1\\. 가설설정\n",
    " \n",
    "$$H_0: p_A=0.3, p_B=0.5, p_C=0.2$$\n",
    "\n",
    "$$H_a:p_A=0.3, p_B=0.5, p_C=0.2 \\mbox{이 아니다.}$$\n"
   ]
  },
  {
   "cell_type": "markdown",
   "metadata": {
    "lines_to_next_cell": 0,
    "slideshow": {
     "slide_type": "fragment"
    }
   },
   "source": [
    "2\\. 가정체크 \n",
    "- 기대빈도가 모든 카테고리에서 5 이상 \n",
    "- 기대빈도 \n",
    "    - 귀무가설이 사실일 때 각 카테고리가 가지는 빈도 수 \n",
    "    $$ e_i = p_{0i} \\times n $$\n",
    "            \n",
    "| 회사     |  A |  B |  C |\n",
    "|------|:--:|:--:|:--:|\n",
    "| 기대빈도 | 60 | 100 | 40 |"
   ]
  },
  {
   "cell_type": "markdown",
   "metadata": {
    "lines_to_next_cell": 0,
    "slideshow": {
     "slide_type": "slide"
    }
   },
   "source": [
    "3\\. 검정통계량, p-value, 결론 \n",
    "$$X = \\sum_i \\frac{(f_i -e_i)^2 }{e_i } \\sim \\chi^2_{k-1}$$\n",
    "\n",
    "- $e_i$: 기대빈도\n",
    "- $f_i$: 관측빈도\n",
    "\n",
    "  "
   ]
  },
  {
   "cell_type": "code",
   "execution_count": 22,
   "metadata": {
    "slideshow": {
     "slide_type": "slide"
    }
   },
   "outputs": [
    {
     "data": {
      "text/plain": [
       "Power_divergenceResult(statistic=7.34, pvalue=0.02547646994668102)"
      ]
     },
     "execution_count": 22,
     "metadata": {},
     "output_type": "execute_result"
    }
   ],
   "source": [
    "from scipy.stats import chisquare\n",
    "xo = [48, 98, 54]\n",
    "xe = [60, 100, 40]\n",
    "result = chisquare(xo, f_exp=xe)\n",
    "result"
   ]
  },
  {
   "cell_type": "markdown",
   "metadata": {
    "slideshow": {
     "slide_type": "fragment"
    }
   },
   "source": [
    "- p-value<0.05\n",
    "- 각 회사의 점유율이 3:5:2에서 변화했다는 통계적으로 유의한 증거가 있다. "
   ]
  },
  {
   "cell_type": "markdown",
   "metadata": {
    "slideshow": {
     "slide_type": "slide"
    }
   },
   "source": [
    "## 5.6 독립성 검정\n",
    "#### Example: 맥주 선호도 \n",
    "\n",
    "- Alber's 맥주회사에서는 라이트, 일반, 흑 맥주를 생산 유통한다. 이 기업의 시장조사팀은 남성과 여성에 따라서 선호하는 맥주에 차이가 있는지 알아보고 싶어졌다. 만약에 맥주에 대한 선호가 성별에 독립적이라면 맥주광고는 모든 고객에 대해 획일적으로 이루어 질 것이다. 그러나 만약 맥주 선호도가 성별에 의존적이라면 세분 시장의 목표고객에 따라서 상이한 촉진전략을 수행해야 할 것이다. \n",
    "\n",
    "- 150명의 맥주음주자들이 무작위 추출되어 각 맥주에 대해 맛을 보고 난 다음에 맥주 선호를 말하도록 하였다. 아래의 분할표는 응답 결과를 요약한 것이다. "
   ]
  },
  {
   "cell_type": "markdown",
   "metadata": {
    "slideshow": {
     "slide_type": "fragment"
    }
   },
   "source": [
    "| 종류  |  라이트  | 일반   | 흑   |  계    |\n",
    "|:-:|:--:|:--:|:--:|:---:|\n",
    "| 남성  | 20 | 40 | 20 |  80 |\n",
    "|  여성 | 30 | 30 | 10 |  70 |\n",
    "| 계  | 50 | 70 | 10 | 150 |"
   ]
  },
  {
   "cell_type": "markdown",
   "metadata": {
    "lines_to_next_cell": 0,
    "slideshow": {
     "slide_type": "slide"
    }
   },
   "source": [
    "#### 독립성 검정\n",
    "- 두 범주형 자료가 독립인지 검정\n",
    "- 가설 \n",
    "\n",
    "    - $H_0:$ 열 변수는 행 변수에 대해 독립적이다.\n",
    "    - $H_a:$ 열 변수는 행 변수에 대해 독립적이지 않다. \n",
    "\n",
    "- 예 \n",
    "    - 자동차 브랜드 충성도가 지역과 관련이 있는가? \n",
    "        - 지역  vs. 브랜드별 구매현황 \n",
    "    - 특정 정책의 지지율이 지지 정당 간의 차이가 있는가?\n",
    "        - 지지여부  vs. 지지 정당 "
   ]
  },
  {
   "cell_type": "markdown",
   "metadata": {
    "slideshow": {
     "slide_type": "slide"
    }
   },
   "source": [
    "1\\. 가설설정\n",
    "\n",
    "- $H_0$: 맥주 선호는 맥주 음주자의 성별에 독립적이다. \n",
    "- $H_a$: 맥주 선호는 맥주 음주자의 성별에 독립적이지 않다.\n"
   ]
  },
  {
   "cell_type": "markdown",
   "metadata": {
    "slideshow": {
     "slide_type": "fragment"
    }
   },
   "source": [
    "2\\. 가정체크 \n",
    "- 기대빈도\n",
    "$$e_{ij}=\\frac{(\\mbox{i행의 계})(\\mbox{j열의 계})}{\\mbox{표본 수 }}$$\n",
    "\n",
    "| 종류  |  라이트  | 일반   | 흑   |  \n",
    "|:-:|:--:|:--:|:--:|\n",
    "| 남성  | 26.67 | 37.33 | 16.00 |  \n",
    "|  여성 | 23.33 | 32.67 | 14.00 |  \n",
    "    "
   ]
  },
  {
   "cell_type": "markdown",
   "metadata": {
    "slideshow": {
     "slide_type": "slide"
    }
   },
   "source": [
    "3\\. 검정통계량, p-value, 결론"
   ]
  },
  {
   "cell_type": "code",
   "execution_count": 13,
   "metadata": {
    "slideshow": {
     "slide_type": "fragment"
    }
   },
   "outputs": [
    {
     "name": "stdout",
     "output_type": "stream",
     "text": [
      "Chisq stat: 6.122, p-value: 0.047, df: 2\n"
     ]
    }
   ],
   "source": [
    "from scipy.stats import chi2_contingency\n",
    "tbl = np.reshape([20,40,20,30,30,10],(2,3))\n",
    "result = chi2_contingency(tbl)\n",
    "print(\"Chisq stat: %.3f, p-value: %.3f, df: %i\" % (result[0:3]))"
   ]
  },
  {
   "cell_type": "code",
   "execution_count": 14,
   "metadata": {
    "slideshow": {
     "slide_type": "fragment"
    }
   },
   "outputs": [
    {
     "data": {
      "text/plain": [
       "array([[26.66666667, 37.33333333, 16.        ],\n",
       "       [23.33333333, 32.66666667, 14.        ]])"
      ]
     },
     "execution_count": 14,
     "metadata": {},
     "output_type": "execute_result"
    }
   ],
   "source": [
    "## expected frequency\n",
    "result[3]"
   ]
  },
  {
   "cell_type": "markdown",
   "metadata": {
    "slideshow": {
     "slide_type": "fragment"
    }
   },
   "source": [
    "- p-value<0.05: 맥주의 선호가 남성과 여성에 따라서 차이가 있다. "
   ]
  },
  {
   "cell_type": "markdown",
   "metadata": {
    "slideshow": {
     "slide_type": "slide"
    }
   },
   "source": [
    "## 정리: 변수유형에 따른 분석기법\n",
    "\n",
    "## 1.3 통계적 추론 방법 정리 \n",
    "### 수치형 변수(평균)에 대한 추론 \n",
    "- y = 수치형 변수 \n",
    "\n",
    "`` import statsmodels.stats.weightstats as stat``\n",
    "\n",
    "|     문제                          |      &nbsp;&nbsp;&nbsp;&nbsp; &nbsp;&nbsp;&nbsp;&nbsp;&nbsp;&nbsp;&nbsp;&nbsp;&nbsp; 관심모수    &nbsp;&nbsp;&nbsp;&nbsp;&nbsp;&nbsp;&nbsp;&nbsp;&nbsp; &nbsp;&nbsp;&nbsp;&nbsp;    |     &nbsp;&nbsp;&nbsp;&nbsp;  점추정량   &nbsp;&nbsp;&nbsp;&nbsp;     |                    &nbsp;&nbsp;&nbsp;&nbsp;&nbsp;&nbsp;&nbsp;&nbsp;   가정체크  &nbsp;&nbsp;&nbsp;&nbsp;&nbsp;&nbsp;&nbsp;&nbsp;                    | &nbsp;&nbsp;&nbsp;&nbsp;&nbsp;&nbsp;&nbsp;&nbsp;&nbsp;&nbsp;&nbsp;      검정가설  &nbsp;&nbsp;&nbsp;&nbsp;&nbsp;&nbsp;&nbsp;&nbsp;&nbsp;&nbsp;&nbsp;        |                                         검정방법/Python 명령어                                         |\n",
    "|:-------------------------------:|:------------------------------:|:---------------------------:|:--------------------------------------------------:|:-----------------------:|:----------------------------------------------------------------------------------------:|\n",
    "| 한 그룹 평균                   | $\\mu$                  | $\\bar x$              | $n>30 (>50)$ <br> or 정규분포                     | $H_0: \\mu=\\mu_0$        |One-sample T-test <br>  ``stat.ttest_mean``         |\n",
    "| 두 그룹 평균 비교(독립표본)   | $\\mu_1-\\mu_2$          | $\\bar x_1 - \\bar x_2$ | $n_1 + n_2>30(>50)$ <br> 두 집단 모두 정규분포  | $H_0: \\mu_1 - \\mu_2 = 0$| Two-sample t-test <br> ``stat.ttest_ind`` |\n",
    "| 두 그룹 평균 비교 (쌍체표본)  | $\\mu_d$                | $\\bar x_d$            | $n>30 (>50)$ </br> or 정규분포                     | $H_0: \\mu_d=0$          | Paired t-test <br>``stat.ttest_mean`` |\n",
    "| 셋 이상 그룹 평균 비교        | $\\mu_1, \\ldots, \\mu_m$ |  $\\hat\\mu_1, \\ldots, \\hat\\mu_m$                      |  $n_i>30 (>50)$  or 정규분포 <br> 등분산| $H_0: \\mu_1 = \\cdots = \\mu_m$ |ANOVA <br> ``class statsmodels.stats.anova.AnovaRM``\n",
    "| 양적변수 간의 상관관계               | $y=\\beta_0+\\beta_1 x+\\epsilon$ <br>$\\beta_0, \\beta_1$     |   $\\hat \\beta_0, \\hat \\beta_1$                    |                                                                                                                                                      선형성, 독립성, 등분산성, 정규성                    | $H_0: \\beta_i=0$                       | Regression <br>`statsmodels.api.OLS`                                                  |"
   ]
  },
  {
   "cell_type": "markdown",
   "metadata": {
    "slideshow": {
     "slide_type": "slide"
    }
   },
   "source": [
    "### 범주형변수(비율)에 대한 추론 \n",
    "- y = 범주형 변수  \n",
    "\n",
    "|      문제             |&nbsp;&nbsp;&nbsp;&nbsp;&nbsp;&nbsp;&nbsp;&nbsp;&nbsp; &nbsp;&nbsp;&nbsp; &nbsp;&nbsp;&nbsp;&nbsp;&nbsp;&nbsp;    모수&nbsp;&nbsp;&nbsp;&nbsp;&nbsp;&nbsp; &nbsp;&nbsp;&nbsp;&nbsp;&nbsp;&nbsp;&nbsp;&nbsp;&nbsp;&nbsp;&nbsp;&nbsp;                | &nbsp;&nbsp;&nbsp;&nbsp;&nbsp;&nbsp;&nbsp;&nbsp;&nbsp;&nbsp;&nbsp;점추정량&nbsp;&nbsp;&nbsp;&nbsp;&nbsp;&nbsp;&nbsp;&nbsp;&nbsp;&nbsp;&nbsp; &nbsp;&nbsp;&nbsp;&nbsp;&nbsp;&nbsp;&nbsp;&nbsp;&nbsp;&nbsp;&nbsp;                    |&nbsp;&nbsp;&nbsp;&nbsp;&nbsp;&nbsp;&nbsp;&nbsp;&nbsp;&nbsp;&nbsp;&nbsp;&nbsp;&nbsp;&nbsp; 가정체크  &nbsp;&nbsp;&nbsp;&nbsp;&nbsp;&nbsp;&nbsp;&nbsp;&nbsp;&nbsp;&nbsp;&nbsp;&nbsp;&nbsp;&nbsp;              | &nbsp;&nbsp;&nbsp;&nbsp;&nbsp;&nbsp;&nbsp;&nbsp;&nbsp;&nbsp;&nbsp;&nbsp;&nbsp;&nbsp;&nbsp;&nbsp;&nbsp;&nbsp;&nbsp;&nbsp;&nbsp;&nbsp;&nbsp;&nbsp;검정가설        &nbsp;&nbsp;&nbsp;&nbsp;&nbsp;&nbsp;&nbsp;&nbsp;&nbsp;&nbsp;&nbsp;&nbsp;&nbsp;&nbsp;&nbsp;&nbsp;&nbsp;&nbsp;&nbsp;&nbsp;&nbsp;&nbsp;&nbsp;&nbsp;                                                                   | 검정방법                                                      |\n",
    "|:-------------------:|:--------------------:|:-------------------------------:|:------------------------------------------------------------:|:------------------------------------------------------------------------------------:|:---------------------------------------------------------------:|\n",
    "| 한 그룹 비율      | $p$                | $\\hat p$                      | $np>5$<br> $n(1-p)>5$                                          | $H_0: p=p_0$                                                                       | Z-test  <br> ``statsmodels.stats.proportion.proportions_ztest``                |\n",
    "| 두 그룹 비율 비교     | $p_1 - p_2$        | $\\hat p_1 - \\hat p_2$         | $n_i p_i >5$<br>$ n_i (1-p_i)>5$  | $H_0: p_1-p_2=0$                                                                   | Z-test <br> ``statsmodels.stats.proportion.proportions_ztest``  |\n",
    "| 적합성 검정       | $p_1, \\ldots, p_m$ | $\\hat p_1, \\ldots, \\hat p_m$  | 모든 기대빈도>5                                            | $H_0: p_1=p_{01}, \\ldots, p_m=p_{0m}$        | Chi-square test<br>``scipy.stats.chisquare``|\n",
    "| 독립성 검정       |                    |                               | 모든 기대빈도>5                                            | $H_0:$ 두 범주형 변수가 독립이다.  | Chi-square test <br>``scipy.stats.chi2_contingency``         |\n",
    "| 양적변수와의 관계 |$logit(p)=\\beta_0+\\beta_1 x$ <br> $\\beta_0, \\beta_1$ |   $\\hat \\beta_0, \\hat \\beta_1$                            |                                                   종속변수가 이항분포         |                                                                         $H_0: \\beta_i=0$           | Logistic regression <br>``sklearn.linear_models.LogisticRegression ``| "
   ]
  },
  {
   "cell_type": "code",
   "execution_count": null,
   "metadata": {},
   "outputs": [],
   "source": []
  }
 ],
 "metadata": {
  "jupytext": {
   "cell_metadata_filter": "fig.width,fig.height,collapse,name,warning,tags,-all",
   "main_language": "R",
   "notebook_metadata_filter": "-all"
  },
  "kernelspec": {
   "display_name": "Python 3",
   "language": "python",
   "name": "python3"
  },
  "language_info": {
   "codemirror_mode": {
    "name": "ipython",
    "version": 3
   },
   "file_extension": ".py",
   "mimetype": "text/x-python",
   "name": "python",
   "nbconvert_exporter": "python",
   "pygments_lexer": "ipython3",
   "version": "3.7.9"
  },
  "toc": {
   "base_numbering": 1,
   "nav_menu": {},
   "number_sections": true,
   "sideBar": true,
   "skip_h1_title": false,
   "title_cell": "Table of Contents",
   "title_sidebar": "Contents",
   "toc_cell": false,
   "toc_position": {},
   "toc_section_display": true,
   "toc_window_display": false
  },
  "varInspector": {
   "cols": {
    "lenName": 16,
    "lenType": 16,
    "lenVar": 40
   },
   "kernels_config": {
    "python": {
     "delete_cmd_postfix": "",
     "delete_cmd_prefix": "del ",
     "library": "var_list.py",
     "varRefreshCmd": "print(var_dic_list())"
    },
    "r": {
     "delete_cmd_postfix": ") ",
     "delete_cmd_prefix": "rm(",
     "library": "var_list.r",
     "varRefreshCmd": "cat(var_dic_list()) "
    }
   },
   "types_to_exclude": [
    "module",
    "function",
    "builtin_function_or_method",
    "instance",
    "_Feature"
   ],
   "window_display": false
  }
 },
 "nbformat": 4,
 "nbformat_minor": 4
}
